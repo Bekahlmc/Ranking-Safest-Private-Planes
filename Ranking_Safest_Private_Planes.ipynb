{
 "cells": [
  {
   "cell_type": "code",
   "execution_count": 2,
   "id": "66637e9e-4b83-41cf-beba-6f24252ce08b",
   "metadata": {},
   "outputs": [],
   "source": [
    "import pandas as pd\n",
    "df = pd.read_csv('AviationData.csv', encoding = 'mac_roman', low_memory = False)\n",
    "#Import and read .csv file"
   ]
  },
  {
   "cell_type": "code",
   "execution_count": 3,
   "id": "c8367926",
   "metadata": {},
   "outputs": [],
   "source": [
    "df.drop(['Event.Id', 'Air.carrier', 'Latitude', 'Longitude', 'Airport.Code', 'Injury.Severity', 'Schedule', 'Purpose.of.flight', 'Airport.Name'], axis=1, inplace = True)\n",
    "#Remove columns: Event.Id, Air.carrier, Latitude, Longitude, Airport.Code, Injury.Severity, Schedule, Purpose.of.flight, Airport.Name"
   ]
  },
  {
   "cell_type": "code",
   "execution_count": 4,
   "id": "c644b6a3",
   "metadata": {
    "scrolled": true
   },
   "outputs": [],
   "source": [
    "amateur_built = df['Amateur.Built'] == 'Yes'\n",
    "df = df[~amateur_built]\n",
    "#Remove amateur-built aircrafts"
   ]
  },
  {
   "cell_type": "code",
   "execution_count": 5,
   "id": "993ea962",
   "metadata": {},
   "outputs": [],
   "source": [
    "df = df[df['Aircraft.Category'] == 'Airplane']\n",
    "#Remove all aircrafts that are not airplanes"
   ]
  },
  {
   "cell_type": "code",
   "execution_count": 6,
   "id": "0f04fdf1",
   "metadata": {},
   "outputs": [],
   "source": [
    "df.dropna(subset = ['Make', 'Model'], inplace = True)\n",
    "#Remove data with no information on Make and Model"
   ]
  },
  {
   "cell_type": "code",
   "execution_count": 7,
   "id": "9533e623",
   "metadata": {},
   "outputs": [],
   "source": [
    "df = df.drop(columns = 'Amateur.Built')\n",
    "#Remove Amateur.Built column"
   ]
  },
  {
   "cell_type": "code",
   "execution_count": 8,
   "id": "8d97ac1a",
   "metadata": {},
   "outputs": [],
   "source": [
    "currentheaders = list(df.columns.values)\n",
    "df.columns = [c.replace('.', ' ').title() for c in currentheaders]\n",
    "#Clean header titles"
   ]
  },
  {
   "cell_type": "code",
   "execution_count": 9,
   "id": "28148382",
   "metadata": {},
   "outputs": [],
   "source": [
    "df['Country'] = df['Country'].str.upper()\n",
    "#Convert all values in Country column to upper case"
   ]
  },
  {
   "cell_type": "code",
   "execution_count": 10,
   "id": "c24ef8b3",
   "metadata": {},
   "outputs": [],
   "source": [
    "df['Event Date'] = pd.to_datetime(df['Event Date'], yearfirst=True)\n",
    "#Convert Event Date column to DateTime"
   ]
  },
  {
   "cell_type": "code",
   "execution_count": 11,
   "id": "d32d648e",
   "metadata": {},
   "outputs": [],
   "source": [
    "df = df.loc[df['Event Date'] >= '1993-01-01']\n",
    "#Remove data prior to 1993"
   ]
  },
  {
   "cell_type": "code",
   "execution_count": 12,
   "id": "0313df66",
   "metadata": {},
   "outputs": [],
   "source": [
    "df = df[df['Country'] == 'UNITED STATES']\n",
    "#Remove data outside of the United States"
   ]
  },
  {
   "cell_type": "code",
   "execution_count": 13,
   "id": "141ae450",
   "metadata": {},
   "outputs": [],
   "source": [
    "df.drop(['Country', 'Aircraft Category', 'Broad Phase Of Flight', 'Weather Condition', 'Publication Date'], axis=1, inplace = True)\n",
    "#Remove Investigation Type, Country, Aircraft Category, Broad Phase of Flight, Weather Condition, and Publication Date columns"
   ]
  },
  {
   "cell_type": "code",
   "execution_count": 14,
   "id": "777691d8",
   "metadata": {},
   "outputs": [],
   "source": [
    "df['Number Of Engines'] = df['Number Of Engines'].fillna(1)\n",
    "df['Total Fatal Injuries'] = df['Total Fatal Injuries'].fillna(0)\n",
    "df['Total Serious Injuries'] = df['Total Serious Injuries'].fillna(0)\n",
    "df['Total Minor Injuries'] = df['Total Minor Injuries'].fillna(0)\n",
    "df['Total Uninjured'] = df['Total Uninjured'].fillna(0)\n",
    "\n",
    "#Fill NaNs - Number of Engines with 1 (median/mode), Fatal Injuries with 0 (intended input), Serious Injuries with 0 (intended input), Minor Injuries with 0 (intended input), and Uninjured with 1 (most common value and results in at least 1 passenger for each accident)"
   ]
  },
  {
   "cell_type": "code",
   "execution_count": 15,
   "id": "e5613891",
   "metadata": {},
   "outputs": [],
   "source": [
    "import numpy as np\n",
    "#import numpy"
   ]
  },
  {
   "cell_type": "code",
   "execution_count": 16,
   "id": "72ca991f",
   "metadata": {},
   "outputs": [],
   "source": [
    "df['Aircraft Damage'].replace('Unknown', np.nan, inplace = True)\n",
    "#Replace 'Unknown' values in Aircraft Damage with NaN"
   ]
  },
  {
   "cell_type": "code",
   "execution_count": 17,
   "id": "53498e49",
   "metadata": {},
   "outputs": [],
   "source": [
    "df['Aircraft Damage'].replace('Substantial', 1, inplace = True)\n",
    "df['Aircraft Damage'].replace('Destroyed', 2, inplace = True)\n",
    "df['Aircraft Damage'].replace('Minor', 0, inplace = True)\n",
    "#Assign scores to Aircraft Damage\n",
    "    #Destroyed = 2, Substantial = 1, Minor = 0"
   ]
  },
  {
   "cell_type": "code",
   "execution_count": 18,
   "id": "78ebde37",
   "metadata": {},
   "outputs": [],
   "source": [
    "mean_damage = df['Aircraft Damage'].mean()\n",
    "df['Aircraft Damage'].fillna(mean_damage, inplace = True)\n",
    "#Fill NaNs in Aircraft Damage with the mean score"
   ]
  },
  {
   "cell_type": "code",
   "execution_count": 19,
   "id": "946258d9",
   "metadata": {},
   "outputs": [],
   "source": [
    "df['Make'] = df['Make'].str.upper()\n",
    "\n",
    "def remove_special_characters(column):\n",
    "    return column.str.replace('[^a-zA-Z0-9\\s]', ' ')\n",
    "\n",
    "df['Make'] = df['Make'].str.replace('[^a-zA-Z0-9\\s]', ' ')\n",
    "#Clean strings in Make column by replacing special characters with ' '"
   ]
  },
  {
   "cell_type": "code",
   "execution_count": 20,
   "id": "714887ce",
   "metadata": {},
   "outputs": [],
   "source": [
    "df['Far Description'].replace('091', 91, inplace = True)\n",
    "df['Far Description'].replace('Part 91: General Aviation', 91, inplace = True)\n",
    "df['Far Description'].replace('091K', 91, inplace = True)\n",
    "df['Far Description'].replace('Part 91 Subpart K: Fractional', 91, inplace = True)\n",
    "df = df[df['Far Description'] == 91]\n",
    "#Removed commercial flights and narrowed planes down to private flights only"
   ]
  },
  {
   "cell_type": "code",
   "execution_count": 21,
   "id": "86e85222",
   "metadata": {},
   "outputs": [],
   "source": [
    "df['Total Passengers'] = df['Total Fatal Injuries'] + df['Total Serious Injuries'] + df['Total Minor Injuries'] + df['Total Uninjured']\n",
    "df['Total Passengers'].replace(0, 1, inplace = True)\n",
    "#Create new column, Total Passengers, which combines the total number of people accounted for in a given data point"
   ]
  },
  {
   "cell_type": "code",
   "execution_count": 22,
   "id": "68bf6a81",
   "metadata": {
    "scrolled": false
   },
   "outputs": [],
   "source": [
    "df['Investigation Type Score'] = df['Investigation Type']\n",
    "df['Investigation Type Score'] = df['Investigation Type Score'].replace('Accident', 0.9)\n",
    "df['Investigation Type Score'] = df['Investigation Type Score'].replace('Incident', 1)\n",
    "#Assign score multiplier to Investigation Type by assigning multiplier of 0.9 to Accidents and multiplier of 1 to Incidents"
   ]
  },
  {
   "cell_type": "code",
   "execution_count": 23,
   "id": "c64d6be3",
   "metadata": {},
   "outputs": [],
   "source": [
    "df['Fatality Injury Score'] = 1 - (((8 * df['Total Fatal Injuries']) + (4 * df['Total Serious Injuries']) + (2 * df['Total Minor Injuries']) + (0 * df['Total Uninjured'])) / (14 * df['Total Passengers']))\n",
    "#Assign score multiplier to fatalities and injuries by weighting Serious injuries as 2x as detrimental as Minor and Fatal injuries as 2x as detrimental as Serious"
   ]
  },
  {
   "cell_type": "code",
   "execution_count": 24,
   "id": "589bbf39",
   "metadata": {},
   "outputs": [],
   "source": [
    "df['Plane Damage Score'] = 1 - (df['Aircraft Damage'] / 4)\n",
    "#Assign score multiplier to plane damage such that completely destroyed planes multiply safety score by 0.5, substantially damaged planes by 0.75, and planes with minor damage by 1"
   ]
  },
  {
   "cell_type": "code",
   "execution_count": 25,
   "id": "daddfb34",
   "metadata": {},
   "outputs": [],
   "source": [
    "df['Safety Score'] = 1 * df['Investigation Type Score'] * df['Fatality Injury Score'] * df['Plane Damage Score']\n",
    "#Assigned an overall Safety Score to each data point"
   ]
  },
  {
   "cell_type": "code",
   "execution_count": 26,
   "id": "3fbe293f",
   "metadata": {},
   "outputs": [],
   "source": [
    "df.to_csv('AviationDataCleaned.csv')"
   ]
  }
 ],
 "metadata": {
  "kernelspec": {
   "display_name": "Python 3 (ipykernel)",
   "language": "python",
   "name": "python3"
  },
  "language_info": {
   "codemirror_mode": {
    "name": "ipython",
    "version": 3
   },
   "file_extension": ".py",
   "mimetype": "text/x-python",
   "name": "python",
   "nbconvert_exporter": "python",
   "pygments_lexer": "ipython3",
   "version": "3.11.5"
  }
 },
 "nbformat": 4,
 "nbformat_minor": 5
}
