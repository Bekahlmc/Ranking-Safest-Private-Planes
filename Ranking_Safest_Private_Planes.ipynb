{
 "cells": [
  {
   "cell_type": "markdown",
   "id": "e451f3fe-8a48-4f23-962e-d1c0d4a94dac",
   "metadata": {},
   "source": [
    "# "
   ]
  },
  {
   "cell_type": "markdown",
   "id": "d21852d9-8a97-4851-ac31-9b03b20d7695",
   "metadata": {},
   "source": [
    "# Fly Safely to Your Destination Vacation: Ranking private airplanes based on safety and risk\n",
    "### Lotus Baumgarner, Norman Jen, and Bekah McLaughlin\n",
    "\n",
    "\n",
    "<img src = \"./Images/private_jet.jpeg\">\n"
   ]
  },
  {
   "cell_type": "markdown",
   "id": "20c0b15d-8be3-4527-a44b-b2c710d660a9",
   "metadata": {},
   "source": [
    "### The Business Need\n",
    "\n",
    "The luxury travel resort, White Lotus, is opening a new location in Marthas Vineyard and intends to purchase private planes for guest transportation from mainland locations to the island resort property. White Lotus takes great pride in its renowned commitment to delivering a luxurious and exclusive experience, with private air travel being an integral component at this location. The primary goal is to prioritize the safety of guests and mitigate risks during transportation. Furthermore, among the safest options, White Lotus aims to pinpoint the most cost-effective, high-end, and highest passenger capacity choice.\n",
    "\n",
    "#### Safety First:\n",
    "Data analysis will focus on evaluating a database of historical incident and accident rates of different aircrafts. From these records we will extract a list the safest potential private jet options.\n",
    "  - *How do we measure safety when looking at historical records of aircraft accidents and incidents?*\n",
    "  - *Based on statistical analysis and chosen safety measuring method, what can we determine are the safest private jets to recommend to White Lotus?*\n",
    "\n",
    "#### Other Incidental Considerations:\n",
    "After compiling a list of the safest private jets, we'll also compare cost and passenger capacity.\n",
    "  - *Which option is the most cost effective?*\n",
    "  - *Which option can transport the largest group of guests?*\n",
    "  - *Which option could White Lotus splurge on for the guest experience?*\n",
    "\n",
    "**Stakeholders: White Lotus Resorts owners and investors, guests, and White Lotus employees**"
   ]
  },
  {
   "cell_type": "markdown",
   "id": "5e0c3d2f-42dc-4803-b525-a836f7cb39b8",
   "metadata": {},
   "source": [
    "# 1. Initial Dataset assessment\n",
    "\n",
    "### Importing libraries"
   ]
  },
  {
   "cell_type": "code",
   "execution_count": 137,
   "id": "66637e9e-4b83-41cf-beba-6f24252ce08b",
   "metadata": {},
   "outputs": [],
   "source": [
    "import pandas as pd\n",
    "import numpy as np\n",
    "import matplotlib.pyplot as plt\n",
    "%matplotlib inline\n",
    "import seaborn as sns\n",
    "\n",
    "#Importing in our analytics and visualization libraries pandas, NumPy, matplotlib and seaborn"
   ]
  },
  {
   "cell_type": "markdown",
   "id": "dab5249d-50ec-4f02-818f-e381b57c6917",
   "metadata": {},
   "source": [
    "### What does the data look like?\n",
    "\n",
    "First we'll import the dataset from National Transportation Safety Board, Aviation Accident Database & Synopses.\n"
   ]
  },
  {
   "cell_type": "code",
   "execution_count": 138,
   "id": "875f55c8-eba9-4de2-aca0-f987c032149e",
   "metadata": {},
   "outputs": [],
   "source": [
    "df = pd.read_csv('./Data/AviationData.csv', encoding = 'mac_roman', low_memory = False)\n",
    "#Import and read .csv file"
   ]
  },
  {
   "cell_type": "markdown",
   "id": "ce833070-885e-4fc1-9230-2c2dbe728dc6",
   "metadata": {},
   "source": [
    "\n",
    "Next, we'll use a few preliminary methods to get a feel for the size and content of the data.\n"
   ]
  },
  {
   "cell_type": "code",
   "execution_count": 139,
   "id": "a5c3beb7-641a-4bd8-a9dc-c11255d96ae5",
   "metadata": {},
   "outputs": [
    {
     "data": {
      "text/html": [
       "<div>\n",
       "<style scoped>\n",
       "    .dataframe tbody tr th:only-of-type {\n",
       "        vertical-align: middle;\n",
       "    }\n",
       "\n",
       "    .dataframe tbody tr th {\n",
       "        vertical-align: top;\n",
       "    }\n",
       "\n",
       "    .dataframe thead th {\n",
       "        text-align: right;\n",
       "    }\n",
       "</style>\n",
       "<table border=\"1\" class=\"dataframe\">\n",
       "  <thead>\n",
       "    <tr style=\"text-align: right;\">\n",
       "      <th></th>\n",
       "      <th>Event.Id</th>\n",
       "      <th>Investigation.Type</th>\n",
       "      <th>Accident.Number</th>\n",
       "      <th>Event.Date</th>\n",
       "      <th>Location</th>\n",
       "      <th>Country</th>\n",
       "      <th>Latitude</th>\n",
       "      <th>Longitude</th>\n",
       "      <th>Airport.Code</th>\n",
       "      <th>Airport.Name</th>\n",
       "      <th>...</th>\n",
       "      <th>Purpose.of.flight</th>\n",
       "      <th>Air.carrier</th>\n",
       "      <th>Total.Fatal.Injuries</th>\n",
       "      <th>Total.Serious.Injuries</th>\n",
       "      <th>Total.Minor.Injuries</th>\n",
       "      <th>Total.Uninjured</th>\n",
       "      <th>Weather.Condition</th>\n",
       "      <th>Broad.phase.of.flight</th>\n",
       "      <th>Report.Status</th>\n",
       "      <th>Publication.Date</th>\n",
       "    </tr>\n",
       "  </thead>\n",
       "  <tbody>\n",
       "    <tr>\n",
       "      <th>0</th>\n",
       "      <td>20001218X45444</td>\n",
       "      <td>Accident</td>\n",
       "      <td>SEA87LA080</td>\n",
       "      <td>1948-10-24</td>\n",
       "      <td>MOOSE CREEK, ID</td>\n",
       "      <td>United States</td>\n",
       "      <td>NaN</td>\n",
       "      <td>NaN</td>\n",
       "      <td>NaN</td>\n",
       "      <td>NaN</td>\n",
       "      <td>...</td>\n",
       "      <td>Personal</td>\n",
       "      <td>NaN</td>\n",
       "      <td>2.0</td>\n",
       "      <td>0.0</td>\n",
       "      <td>0.0</td>\n",
       "      <td>0.0</td>\n",
       "      <td>UNK</td>\n",
       "      <td>Cruise</td>\n",
       "      <td>Probable Cause</td>\n",
       "      <td>NaN</td>\n",
       "    </tr>\n",
       "    <tr>\n",
       "      <th>1</th>\n",
       "      <td>20001218X45447</td>\n",
       "      <td>Accident</td>\n",
       "      <td>LAX94LA336</td>\n",
       "      <td>1962-07-19</td>\n",
       "      <td>BRIDGEPORT, CA</td>\n",
       "      <td>United States</td>\n",
       "      <td>NaN</td>\n",
       "      <td>NaN</td>\n",
       "      <td>NaN</td>\n",
       "      <td>NaN</td>\n",
       "      <td>...</td>\n",
       "      <td>Personal</td>\n",
       "      <td>NaN</td>\n",
       "      <td>4.0</td>\n",
       "      <td>0.0</td>\n",
       "      <td>0.0</td>\n",
       "      <td>0.0</td>\n",
       "      <td>UNK</td>\n",
       "      <td>Unknown</td>\n",
       "      <td>Probable Cause</td>\n",
       "      <td>19-09-1996</td>\n",
       "    </tr>\n",
       "    <tr>\n",
       "      <th>2</th>\n",
       "      <td>20061025X01555</td>\n",
       "      <td>Accident</td>\n",
       "      <td>NYC07LA005</td>\n",
       "      <td>1974-08-30</td>\n",
       "      <td>Saltville, VA</td>\n",
       "      <td>United States</td>\n",
       "      <td>36.922223</td>\n",
       "      <td>-81.878056</td>\n",
       "      <td>NaN</td>\n",
       "      <td>NaN</td>\n",
       "      <td>...</td>\n",
       "      <td>Personal</td>\n",
       "      <td>NaN</td>\n",
       "      <td>3.0</td>\n",
       "      <td>NaN</td>\n",
       "      <td>NaN</td>\n",
       "      <td>NaN</td>\n",
       "      <td>IMC</td>\n",
       "      <td>Cruise</td>\n",
       "      <td>Probable Cause</td>\n",
       "      <td>26-02-2007</td>\n",
       "    </tr>\n",
       "    <tr>\n",
       "      <th>3</th>\n",
       "      <td>20001218X45448</td>\n",
       "      <td>Accident</td>\n",
       "      <td>LAX96LA321</td>\n",
       "      <td>1977-06-19</td>\n",
       "      <td>EUREKA, CA</td>\n",
       "      <td>United States</td>\n",
       "      <td>NaN</td>\n",
       "      <td>NaN</td>\n",
       "      <td>NaN</td>\n",
       "      <td>NaN</td>\n",
       "      <td>...</td>\n",
       "      <td>Personal</td>\n",
       "      <td>NaN</td>\n",
       "      <td>2.0</td>\n",
       "      <td>0.0</td>\n",
       "      <td>0.0</td>\n",
       "      <td>0.0</td>\n",
       "      <td>IMC</td>\n",
       "      <td>Cruise</td>\n",
       "      <td>Probable Cause</td>\n",
       "      <td>12-09-2000</td>\n",
       "    </tr>\n",
       "    <tr>\n",
       "      <th>4</th>\n",
       "      <td>20041105X01764</td>\n",
       "      <td>Accident</td>\n",
       "      <td>CHI79FA064</td>\n",
       "      <td>1979-08-02</td>\n",
       "      <td>Canton, OH</td>\n",
       "      <td>United States</td>\n",
       "      <td>NaN</td>\n",
       "      <td>NaN</td>\n",
       "      <td>NaN</td>\n",
       "      <td>NaN</td>\n",
       "      <td>...</td>\n",
       "      <td>Personal</td>\n",
       "      <td>NaN</td>\n",
       "      <td>1.0</td>\n",
       "      <td>2.0</td>\n",
       "      <td>NaN</td>\n",
       "      <td>0.0</td>\n",
       "      <td>VMC</td>\n",
       "      <td>Approach</td>\n",
       "      <td>Probable Cause</td>\n",
       "      <td>16-04-1980</td>\n",
       "    </tr>\n",
       "  </tbody>\n",
       "</table>\n",
       "<p>5 rows × 31 columns</p>\n",
       "</div>"
      ],
      "text/plain": [
       "         Event.Id Investigation.Type Accident.Number  Event.Date  \\\n",
       "0  20001218X45444           Accident      SEA87LA080  1948-10-24   \n",
       "1  20001218X45447           Accident      LAX94LA336  1962-07-19   \n",
       "2  20061025X01555           Accident      NYC07LA005  1974-08-30   \n",
       "3  20001218X45448           Accident      LAX96LA321  1977-06-19   \n",
       "4  20041105X01764           Accident      CHI79FA064  1979-08-02   \n",
       "\n",
       "          Location        Country   Latitude   Longitude Airport.Code  \\\n",
       "0  MOOSE CREEK, ID  United States        NaN         NaN          NaN   \n",
       "1   BRIDGEPORT, CA  United States        NaN         NaN          NaN   \n",
       "2    Saltville, VA  United States  36.922223  -81.878056          NaN   \n",
       "3       EUREKA, CA  United States        NaN         NaN          NaN   \n",
       "4       Canton, OH  United States        NaN         NaN          NaN   \n",
       "\n",
       "  Airport.Name  ... Purpose.of.flight Air.carrier Total.Fatal.Injuries  \\\n",
       "0          NaN  ...          Personal         NaN                  2.0   \n",
       "1          NaN  ...          Personal         NaN                  4.0   \n",
       "2          NaN  ...          Personal         NaN                  3.0   \n",
       "3          NaN  ...          Personal         NaN                  2.0   \n",
       "4          NaN  ...          Personal         NaN                  1.0   \n",
       "\n",
       "  Total.Serious.Injuries Total.Minor.Injuries Total.Uninjured  \\\n",
       "0                    0.0                  0.0             0.0   \n",
       "1                    0.0                  0.0             0.0   \n",
       "2                    NaN                  NaN             NaN   \n",
       "3                    0.0                  0.0             0.0   \n",
       "4                    2.0                  NaN             0.0   \n",
       "\n",
       "  Weather.Condition  Broad.phase.of.flight   Report.Status Publication.Date  \n",
       "0               UNK                 Cruise  Probable Cause              NaN  \n",
       "1               UNK                Unknown  Probable Cause       19-09-1996  \n",
       "2               IMC                 Cruise  Probable Cause       26-02-2007  \n",
       "3               IMC                 Cruise  Probable Cause       12-09-2000  \n",
       "4               VMC               Approach  Probable Cause       16-04-1980  \n",
       "\n",
       "[5 rows x 31 columns]"
      ]
     },
     "execution_count": 139,
     "metadata": {},
     "output_type": "execute_result"
    }
   ],
   "source": [
    "df.head()\n",
    "#Taking an initial look at the dataset"
   ]
  },
  {
   "cell_type": "code",
   "execution_count": 140,
   "id": "f188abeb-a745-40a8-b872-fd7b586acd16",
   "metadata": {},
   "outputs": [
    {
     "name": "stdout",
     "output_type": "stream",
     "text": [
      "<class 'pandas.core.frame.DataFrame'>\n",
      "RangeIndex: 88889 entries, 0 to 88888\n",
      "Data columns (total 31 columns):\n",
      " #   Column                  Non-Null Count  Dtype  \n",
      "---  ------                  --------------  -----  \n",
      " 0   Event.Id                88889 non-null  object \n",
      " 1   Investigation.Type      88889 non-null  object \n",
      " 2   Accident.Number         88889 non-null  object \n",
      " 3   Event.Date              88889 non-null  object \n",
      " 4   Location                88837 non-null  object \n",
      " 5   Country                 88663 non-null  object \n",
      " 6   Latitude                34382 non-null  object \n",
      " 7   Longitude               34373 non-null  object \n",
      " 8   Airport.Code            50249 non-null  object \n",
      " 9   Airport.Name            52790 non-null  object \n",
      " 10  Injury.Severity         87889 non-null  object \n",
      " 11  Aircraft.damage         85695 non-null  object \n",
      " 12  Aircraft.Category       32287 non-null  object \n",
      " 13  Registration.Number     87572 non-null  object \n",
      " 14  Make                    88826 non-null  object \n",
      " 15  Model                   88797 non-null  object \n",
      " 16  Amateur.Built           88787 non-null  object \n",
      " 17  Number.of.Engines       82805 non-null  float64\n",
      " 18  Engine.Type             81812 non-null  object \n",
      " 19  FAR.Description         32023 non-null  object \n",
      " 20  Schedule                12582 non-null  object \n",
      " 21  Purpose.of.flight       82697 non-null  object \n",
      " 22  Air.carrier             16648 non-null  object \n",
      " 23  Total.Fatal.Injuries    77488 non-null  float64\n",
      " 24  Total.Serious.Injuries  76379 non-null  float64\n",
      " 25  Total.Minor.Injuries    76956 non-null  float64\n",
      " 26  Total.Uninjured         82977 non-null  float64\n",
      " 27  Weather.Condition       84397 non-null  object \n",
      " 28  Broad.phase.of.flight   61724 non-null  object \n",
      " 29  Report.Status           82508 non-null  object \n",
      " 30  Publication.Date        75118 non-null  object \n",
      "dtypes: float64(5), object(26)\n",
      "memory usage: 21.0+ MB\n"
     ]
    }
   ],
   "source": [
    "df.info()"
   ]
  },
  {
   "cell_type": "code",
   "execution_count": 141,
   "id": "bdb8a4c1-e796-439b-9285-d65204d014c3",
   "metadata": {},
   "outputs": [
    {
     "data": {
      "text/plain": [
       "Event.Id                      0\n",
       "Investigation.Type            0\n",
       "Accident.Number               0\n",
       "Event.Date                    0\n",
       "Location                     52\n",
       "Country                     226\n",
       "Latitude                  54507\n",
       "Longitude                 54516\n",
       "Airport.Code              38640\n",
       "Airport.Name              36099\n",
       "Injury.Severity            1000\n",
       "Aircraft.damage            3194\n",
       "Aircraft.Category         56602\n",
       "Registration.Number        1317\n",
       "Make                         63\n",
       "Model                        92\n",
       "Amateur.Built               102\n",
       "Number.of.Engines          6084\n",
       "Engine.Type                7077\n",
       "FAR.Description           56866\n",
       "Schedule                  76307\n",
       "Purpose.of.flight          6192\n",
       "Air.carrier               72241\n",
       "Total.Fatal.Injuries      11401\n",
       "Total.Serious.Injuries    12510\n",
       "Total.Minor.Injuries      11933\n",
       "Total.Uninjured            5912\n",
       "Weather.Condition          4492\n",
       "Broad.phase.of.flight     27165\n",
       "Report.Status              6381\n",
       "Publication.Date          13771\n",
       "dtype: int64"
      ]
     },
     "execution_count": 141,
     "metadata": {},
     "output_type": "execute_result"
    }
   ],
   "source": [
    "df.isna().sum()"
   ]
  },
  {
   "cell_type": "markdown",
   "id": "15911a9c-6395-4730-9d0c-4875e146fada",
   "metadata": {},
   "source": [
    "\n",
    "Clearly, with 88,889 rows, 31 columns, and a considerable amount of missing data, there is a lot of cleaning and investigation to do.\n",
    "\n",
    "Upon this initial examination, it's clear that 'Total.Fatal.Injuries,' 'Total.Serious.Injuries,' 'Total.Minor.Injuries,' 'Total.Uninjured,' and 'Aircraft.damage' will all contain crucial data for assessing aircraft safety.\n",
    "\n",
    "However, it is also clear that there is a significant amount of irrelevant and incomplete data. Some of this can be eliminated before proceeding with meticulous cleaning and analysis.\n",
    "\n",
    "# 2 Exploring data to find irrelevant and incomplete columns"
   ]
  },
  {
   "cell_type": "code",
   "execution_count": 142,
   "id": "1b4eabf7-3d2e-4ebd-af71-c99dc2e29878",
   "metadata": {},
   "outputs": [
    {
     "data": {
      "text/plain": [
       "0    20001218X45444\n",
       "1    20001218X45447\n",
       "2    20061025X01555\n",
       "3    20001218X45448\n",
       "4    20041105X01764\n",
       "5    20170710X52551\n",
       "6    20001218X45446\n",
       "7    20020909X01562\n",
       "8    20020909X01561\n",
       "9    20020909X01560\n",
       "Name: Event.Id, dtype: object"
      ]
     },
     "execution_count": 142,
     "metadata": {},
     "output_type": "execute_result"
    }
   ],
   "source": [
    "df['Event.Id'].head(10)"
   ]
  },
  {
   "cell_type": "markdown",
   "id": "19a2a033-c226-4303-8d78-093502511832",
   "metadata": {},
   "source": [
    "This column appears to represent a unique numeric identifier for each accident or incident. Since it doesn't contribute to the ultimate goal of finding safe airplane recommendations for the business, we'll include it in the list of columns to be eliminated."
   ]
  },
  {
   "cell_type": "code",
   "execution_count": 143,
   "id": "c57fab18-9aa0-42e6-9442-d6157ed7f707",
   "metadata": {},
   "outputs": [
    {
     "data": {
      "text/plain": [
       "Pilot                             258\n",
       "American Airlines                  90\n",
       "United Airlines                    89\n",
       "Delta Air Lines                    53\n",
       "SOUTHWEST AIRLINES CO              42\n",
       "                                 ... \n",
       "Northeastern Aero Classics LLC      1\n",
       "Franklin Aviation                   1\n",
       "Wright Flyers Aviation, Inc         1\n",
       "DENISAR RICHARD A                   1\n",
       "Ronald G. Hook                      1\n",
       "Name: Air.carrier, Length: 13590, dtype: int64"
      ]
     },
     "execution_count": 143,
     "metadata": {},
     "output_type": "execute_result"
    }
   ],
   "source": [
    "df['Air.carrier'].value_counts() "
   ]
  },
  {
   "cell_type": "markdown",
   "id": "86653013-758e-4cc8-902e-bddb2fa5488b",
   "metadata": {},
   "source": [
    "White Lotus will hire its own pilots, eliminating the need for an air carrier. Upon closer inspection of this column, it appears that there is no additional useful information to be extracted. Therefore, we'll include it in the list of columns to be eliminated."
   ]
  },
  {
   "cell_type": "code",
   "execution_count": 144,
   "id": "1e799bd2-20c7-4d3d-8756-f3b5c8398864",
   "metadata": {},
   "outputs": [
    {
     "data": {
      "text/plain": [
       "NONE    1488\n",
       "PVT      485\n",
       "APA      160\n",
       "ORD      149\n",
       "MRI      137\n",
       "        ... \n",
       "KATS       1\n",
       "SDVI       1\n",
       "TS01       1\n",
       "ND48       1\n",
       "1MD3       1\n",
       "Name: Airport.Code, Length: 10375, dtype: int64"
      ]
     },
     "execution_count": 144,
     "metadata": {},
     "output_type": "execute_result"
    }
   ],
   "source": [
    "df['Airport.Code'].value_counts()"
   ]
  },
  {
   "cell_type": "code",
   "execution_count": 145,
   "id": "06516e46-507b-4847-a147-c8fa30b2fb2f",
   "metadata": {},
   "outputs": [
    {
     "data": {
      "text/plain": [
       "NONE    1488\n",
       "PVT      485\n",
       "APA      160\n",
       "ORD      149\n",
       "MRI      137\n",
       "        ... \n",
       "KATS       1\n",
       "SDVI       1\n",
       "TS01       1\n",
       "ND48       1\n",
       "1MD3       1\n",
       "Name: Airport.Code, Length: 10375, dtype: int64"
      ]
     },
     "execution_count": 145,
     "metadata": {},
     "output_type": "execute_result"
    }
   ],
   "source": [
    "df['Airport.Code'].value_counts()"
   ]
  },
  {
   "cell_type": "markdown",
   "id": "7ec3032a-dc3b-460e-a9e1-1d7316e7ff20",
   "metadata": {},
   "source": [
    "Both 'Airport.Code' and 'Airport.Name' show a significant amount of missing data, as we saw earlier.\n",
    "\n",
    "Upon closer examination, it becomes apparent that the most common value in 'Airport.Code' is 'NONE,' indicating a more missing data than we initially could see.\n",
    "\n",
    "Further examination of 'Airport.Name' values shows us that, although the data is messy, many airports associated with these events are private.\n",
    "\n",
    "However, this information is irrelevant to our project, as White Lotus operates its own private airports exclusively for guests. Therefore, we can disregard the data in both of these columns."
   ]
  },
  {
   "cell_type": "code",
   "execution_count": 146,
   "id": "f211066e-ca57-4d4c-9354-2e15d43f07a7",
   "metadata": {},
   "outputs": [
    {
     "data": {
      "text/plain": [
       "24959         NaN\n",
       "73125    0894136W\n",
       "42830         NaN\n",
       "33589         NaN\n",
       "3665          NaN\n",
       "43513         NaN\n",
       "61785    -118.155\n",
       "5327          NaN\n",
       "87541    0812551W\n",
       "54315     -109.51\n",
       "7313          NaN\n",
       "29533         NaN\n",
       "78549    0106925W\n",
       "25018         NaN\n",
       "41489         NaN\n",
       "Name: Longitude, dtype: object"
      ]
     },
     "execution_count": 146,
     "metadata": {},
     "output_type": "execute_result"
    }
   ],
   "source": [
    "df['Longitude'].sample(n=15)\n",
    "#Looking at a random sample of 15 values from the 'Longitude' column to get a feel for it's contents"
   ]
  },
  {
   "cell_type": "code",
   "execution_count": 147,
   "id": "7b0abfa9-5312-4a00-9f51-feedbd209284",
   "metadata": {},
   "outputs": [
    {
     "data": {
      "text/plain": [
       "48862          NaN\n",
       "18421          NaN\n",
       "78730      043739N\n",
       "58624    35.336111\n",
       "50051          NaN\n",
       "3482           NaN\n",
       "23241          NaN\n",
       "17401          NaN\n",
       "19637          NaN\n",
       "10303          NaN\n",
       "6339           NaN\n",
       "33433          NaN\n",
       "25228          NaN\n",
       "6032           NaN\n",
       "7526           NaN\n",
       "Name: Latitude, dtype: object"
      ]
     },
     "execution_count": 147,
     "metadata": {},
     "output_type": "execute_result"
    }
   ],
   "source": [
    "df['Latitude'].sample(n=15)\n",
    "#Looking at a random sample of 15 values from the 'Latitude' column to get a feel for it's contents"
   ]
  },
  {
   "cell_type": "markdown",
   "id": "53afc9b3-f9f0-47d4-acf2-73d1fa501cdb",
   "metadata": {},
   "source": [
    "We had already identified from our initial inspection that 'Longitude' and 'Latitude' contained substantial amounts of missing data. Examining a few sample values underscores the prevalence of NaNs in these columns. Given the extensive missing data and the realization that these columns won't contribute to determining the safety of aircraft, we will eliminate them."
   ]
  },
  {
   "cell_type": "code",
   "execution_count": 148,
   "id": "eaf3e254-cf00-47a2-9567-08a4ff2e8797",
   "metadata": {},
   "outputs": [
    {
     "data": {
      "text/plain": [
       "NSCH    4474\n",
       "UNK     4099\n",
       "SCHD    4009\n",
       "Name: Schedule, dtype: int64"
      ]
     },
     "execution_count": 148,
     "metadata": {},
     "output_type": "execute_result"
    }
   ],
   "source": [
    "df['Schedule'].value_counts()"
   ]
  },
  {
   "cell_type": "code",
   "execution_count": 149,
   "id": "ce905bd7-7bbf-41bd-92e8-22895fda1199",
   "metadata": {},
   "outputs": [
    {
     "data": {
      "text/plain": [
       "Personal                     49448\n",
       "Instructional                10601\n",
       "Unknown                       6802\n",
       "Aerial Application            4712\n",
       "Business                      4018\n",
       "Positioning                   1646\n",
       "Other Work Use                1264\n",
       "Ferry                          812\n",
       "Aerial Observation             794\n",
       "Public Aircraft                720\n",
       "Executive/corporate            553\n",
       "Flight Test                    405\n",
       "Skydiving                      182\n",
       "External Load                  123\n",
       "Public Aircraft - Federal      105\n",
       "Banner Tow                     101\n",
       "Air Race show                   99\n",
       "Public Aircraft - Local         74\n",
       "Public Aircraft - State         64\n",
       "Air Race/show                   59\n",
       "Glider Tow                      53\n",
       "Firefighting                    40\n",
       "Air Drop                        11\n",
       "ASHO                             6\n",
       "PUBS                             4\n",
       "PUBL                             1\n",
       "Name: Purpose.of.flight, dtype: int64"
      ]
     },
     "execution_count": 149,
     "metadata": {},
     "output_type": "execute_result"
    }
   ],
   "source": [
    "df['Purpose.of.flight'].value_counts()"
   ]
  },
  {
   "cell_type": "markdown",
   "id": "4f78dbc4-6b80-4aed-bf8e-55a5da473056",
   "metadata": {},
   "source": [
    "After reviewing a summary of the contents in 'Schedule' and 'Purpose.of.flight,' it's clear that these columns will not contribute to determining aircraft safety. Therefore, we will eliminate them."
   ]
  },
  {
   "cell_type": "code",
   "execution_count": 150,
   "id": "191edf56-4a34-4d7e-bcdc-184a0a5451e8",
   "metadata": {},
   "outputs": [
    {
     "data": {
      "text/plain": [
       "Non-Fatal     67357\n",
       "Fatal(1)       6167\n",
       "Fatal          5262\n",
       "Fatal(2)       3711\n",
       "Incident       2219\n",
       "              ...  \n",
       "Fatal(80)         1\n",
       "Fatal(60)         1\n",
       "Fatal(110)        1\n",
       "Fatal(121)        1\n",
       "Fatal(230)        1\n",
       "Name: Injury.Severity, Length: 109, dtype: int64"
      ]
     },
     "execution_count": 150,
     "metadata": {},
     "output_type": "execute_result"
    }
   ],
   "source": [
    "df['Injury.Severity'].value_counts()"
   ]
  },
  {
   "cell_type": "code",
   "execution_count": 151,
   "id": "614048e0-d1e3-4ea1-9724-3e299bd29286",
   "metadata": {},
   "outputs": [
    {
     "data": {
      "text/plain": [
       "38940    Non-Fatal\n",
       "45341    Non-Fatal\n",
       "29162    Non-Fatal\n",
       "58162    Non-Fatal\n",
       "69105    Non-Fatal\n",
       "40288    Non-Fatal\n",
       "11902    Non-Fatal\n",
       "14858    Non-Fatal\n",
       "82023    Non-Fatal\n",
       "6714     Non-Fatal\n",
       "Name: Injury.Severity, dtype: object"
      ]
     },
     "execution_count": 151,
     "metadata": {},
     "output_type": "execute_result"
    }
   ],
   "source": [
    "df['Injury.Severity'].sample(10)"
   ]
  },
  {
   "cell_type": "markdown",
   "id": "1b98cc4d-14ec-47c6-8e86-5837bdb39999",
   "metadata": {},
   "source": [
    "The data in 'Injury.Severity' is messy, but seems to distinguish between an injury being 'Fatal', 'Non-Fatal', and 'Incident'. However, upon closer inspection, we see that all this information is duplicated in other columns such as 'Investigation.Type,' 'Total.Fatal.Injuries,' 'Total.Serious.Injuries,' 'Total.Minor.Injuries,' and 'Total.Uninjured.' As 'Injury.Severity' only contains redundant information, we will eliminate this column.\n",
    "\n",
    "#### To make our data easier to clean and further filter, we'll remove all of the columns discussed so far."
   ]
  },
  {
   "cell_type": "code",
   "execution_count": 152,
   "id": "c8367926",
   "metadata": {},
   "outputs": [],
   "source": [
    "df.drop(['Event.Id', 'Air.carrier', 'Latitude', 'Longitude', 'Airport.Code', 'Injury.Severity', 'Schedule', 'Purpose.of.flight', 'Airport.Name'], axis=1, inplace = True)\n",
    "#Remove columns: Event.Id, Air.carrier, Latitude, Longitude, Airport.Code, Injury.Severity, Schedule, Purpose.of.flight, Airport.Name"
   ]
  },
  {
   "cell_type": "code",
   "execution_count": 153,
   "id": "081904f8-7a31-4727-bd23-83ac7c367cc5",
   "metadata": {},
   "outputs": [
    {
     "name": "stdout",
     "output_type": "stream",
     "text": [
      "<class 'pandas.core.frame.DataFrame'>\n",
      "RangeIndex: 88889 entries, 0 to 88888\n",
      "Data columns (total 22 columns):\n",
      " #   Column                  Non-Null Count  Dtype  \n",
      "---  ------                  --------------  -----  \n",
      " 0   Investigation.Type      88889 non-null  object \n",
      " 1   Accident.Number         88889 non-null  object \n",
      " 2   Event.Date              88889 non-null  object \n",
      " 3   Location                88837 non-null  object \n",
      " 4   Country                 88663 non-null  object \n",
      " 5   Aircraft.damage         85695 non-null  object \n",
      " 6   Aircraft.Category       32287 non-null  object \n",
      " 7   Registration.Number     87572 non-null  object \n",
      " 8   Make                    88826 non-null  object \n",
      " 9   Model                   88797 non-null  object \n",
      " 10  Amateur.Built           88787 non-null  object \n",
      " 11  Number.of.Engines       82805 non-null  float64\n",
      " 12  Engine.Type             81812 non-null  object \n",
      " 13  FAR.Description         32023 non-null  object \n",
      " 14  Total.Fatal.Injuries    77488 non-null  float64\n",
      " 15  Total.Serious.Injuries  76379 non-null  float64\n",
      " 16  Total.Minor.Injuries    76956 non-null  float64\n",
      " 17  Total.Uninjured         82977 non-null  float64\n",
      " 18  Weather.Condition       84397 non-null  object \n",
      " 19  Broad.phase.of.flight   61724 non-null  object \n",
      " 20  Report.Status           82508 non-null  object \n",
      " 21  Publication.Date        75118 non-null  object \n",
      "dtypes: float64(5), object(17)\n",
      "memory usage: 14.9+ MB\n"
     ]
    }
   ],
   "source": [
    "df.info()"
   ]
  },
  {
   "cell_type": "markdown",
   "id": "82341ce6-bf2e-483f-bb17-6e0963d74253",
   "metadata": {},
   "source": [
    "Narrowing down from 31 columns to 22 is beginning to feel more manageable.\n",
    "\n",
    "# 3 Next, we'll examine the values of additional columns to identify rows for elimination."
   ]
  },
  {
   "cell_type": "code",
   "execution_count": 154,
   "id": "dd1debe4-6ead-4389-a318-dc308fc84138",
   "metadata": {},
   "outputs": [
    {
     "data": {
      "text/plain": [
       "No     80312\n",
       "Yes     8475\n",
       "Name: Amateur.Built, dtype: int64"
      ]
     },
     "execution_count": 154,
     "metadata": {},
     "output_type": "execute_result"
    }
   ],
   "source": [
    "df['Amateur.Built'].value_counts()"
   ]
  },
  {
   "cell_type": "markdown",
   "id": "deda490c-0ab0-44c4-87bc-17425ae0575a",
   "metadata": {},
   "source": [
    "We do not intend to recommend any amateur-built aircraft to White Lotus. We will eliminate all rows that indicate 'Yes' in the 'Amateur.Built' column. Then, since we will no longer need this column, we will proceed to delete it."
   ]
  },
  {
   "cell_type": "code",
   "execution_count": 155,
   "id": "c644b6a3",
   "metadata": {
    "scrolled": true
   },
   "outputs": [],
   "source": [
    "amateur_built = df['Amateur.Built'] == 'Yes'\n",
    "df = df[~amateur_built]\n",
    "#Remove amateur-built aircrafts"
   ]
  },
  {
   "cell_type": "code",
   "execution_count": 156,
   "id": "951a8725-5981-47d8-a5c0-5164b2773b1c",
   "metadata": {},
   "outputs": [],
   "source": [
    "df = df.drop(columns = 'Amateur.Built')\n",
    "#Remove Amateur.Built column"
   ]
  },
  {
   "cell_type": "code",
   "execution_count": 157,
   "id": "1aa48eb5-8a0d-458d-a0b0-5c32df3178a2",
   "metadata": {},
   "outputs": [
    {
     "data": {
      "text/plain": [
       "Airplane             24434\n",
       "Helicopter            3297\n",
       "Glider                 476\n",
       "Balloon                229\n",
       "Weight-Shift           139\n",
       "Powered Parachute       83\n",
       "Gyrocraft               32\n",
       "Ultralight              18\n",
       "Unknown                 11\n",
       "WSFT                     9\n",
       "Powered-Lift             5\n",
       "Blimp                    4\n",
       "UNK                      2\n",
       "Rocket                   1\n",
       "Name: Aircraft.Category, dtype: int64"
      ]
     },
     "execution_count": 157,
     "metadata": {},
     "output_type": "execute_result"
    }
   ],
   "source": [
    "df['Aircraft.Category'].value_counts()"
   ]
  },
  {
   "cell_type": "markdown",
   "id": "deff3a29-5ac3-4563-b4a2-db7aef0132a5",
   "metadata": {},
   "source": [
    "White Lotus is only interested in airplanes. All the rows with other aircrafts in the 'Aircraft.Category' can be removed."
   ]
  },
  {
   "cell_type": "code",
   "execution_count": 158,
   "id": "993ea962",
   "metadata": {},
   "outputs": [],
   "source": [
    "df = df[df['Aircraft.Category'] == 'Airplane']\n",
    "#Remove all aircrafts that are not airplanes"
   ]
  },
  {
   "cell_type": "markdown",
   "id": "63c54eda-8e38-42ee-9fe7-920c2758ce13",
   "metadata": {},
   "source": [
    "Additionally, our focus is solely on data where we have information about the 'Make' and 'Model' of the airplane. Any NaNs in these columns render the associated row irrelevant; hence, we will remove them."
   ]
  },
  {
   "cell_type": "code",
   "execution_count": 159,
   "id": "0f04fdf1",
   "metadata": {},
   "outputs": [],
   "source": [
    "df.dropna(subset = ['Make', 'Model'], inplace = True)\n",
    "#Remove data with no information on Make and Model"
   ]
  },
  {
   "cell_type": "code",
   "execution_count": 160,
   "id": "6edcec80-b225-470e-934e-8b04230c87bd",
   "metadata": {},
   "outputs": [
    {
     "data": {
      "text/plain": [
       "United States             21119\n",
       "Brazil                      239\n",
       "United Kingdom              207\n",
       "Mexico                      202\n",
       "Canada                      169\n",
       "                          ...  \n",
       "Singapore                     1\n",
       "Bosnia and Herzegovina        1\n",
       "Isle of Man                   1\n",
       "CÙte d'Ivoire                 1\n",
       "Slovakia                      1\n",
       "Name: Country, Length: 165, dtype: int64"
      ]
     },
     "execution_count": 160,
     "metadata": {},
     "output_type": "execute_result"
    }
   ],
   "source": [
    "df['Country'].value_counts()"
   ]
  },
  {
   "cell_type": "code",
   "execution_count": 161,
   "id": "e9ef4b5b-d98e-4f2c-a179-044b21672928",
   "metadata": {},
   "outputs": [
    {
     "data": {
      "text/plain": [
       "5        United States\n",
       "7        United States\n",
       "8        United States\n",
       "12       United States\n",
       "13       United States\n",
       "             ...      \n",
       "88869    United States\n",
       "88873    United States\n",
       "88876    United States\n",
       "88877    United States\n",
       "88886    United States\n",
       "Name: Country, Length: 24415, dtype: object"
      ]
     },
     "execution_count": 161,
     "metadata": {},
     "output_type": "execute_result"
    }
   ],
   "source": [
    "df['Country']"
   ]
  },
  {
   "cell_type": "code",
   "execution_count": 162,
   "id": "bdba375a-a164-4e8f-8272-f5fd72992313",
   "metadata": {},
   "outputs": [
    {
     "data": {
      "text/plain": [
       "United States             0.865001\n",
       "Brazil                    0.009789\n",
       "United Kingdom            0.008478\n",
       "Mexico                    0.008274\n",
       "Canada                    0.006922\n",
       "                            ...   \n",
       "Singapore                 0.000041\n",
       "Bosnia and Herzegovina    0.000041\n",
       "Isle of Man               0.000041\n",
       "CÙte d'Ivoire             0.000041\n",
       "Slovakia                  0.000041\n",
       "Name: Country, Length: 165, dtype: float64"
      ]
     },
     "execution_count": 162,
     "metadata": {},
     "output_type": "execute_result"
    }
   ],
   "source": [
    "df['Country'].value_counts() / len(df['Country'])"
   ]
  },
  {
   "cell_type": "markdown",
   "id": "70c059a2-93b9-4be4-bd07-43b58bb34a70",
   "metadata": {},
   "source": [
    "Over 86% of of the data is from the United States. Since White Lotus' flights for will only take place within the United States, we'll remove all rows with other values."
   ]
  },
  {
   "cell_type": "code",
   "execution_count": 163,
   "id": "6be4b526-8609-4021-9f00-c5aeac4a8492",
   "metadata": {},
   "outputs": [],
   "source": [
    "df['Country'] = df['Country'].str.upper()"
   ]
  },
  {
   "cell_type": "code",
   "execution_count": 164,
   "id": "161e30db-29b9-4895-b807-e12481088b10",
   "metadata": {},
   "outputs": [],
   "source": [
    "df = df[df['Country'] == 'UNITED STATES']\n",
    "#Remove data outside of the United States"
   ]
  },
  {
   "cell_type": "code",
   "execution_count": 165,
   "id": "0fda8bd7-1a6b-4697-b8aa-9122a5c4a73f",
   "metadata": {},
   "outputs": [],
   "source": [
    "df['Event.Date'] = pd.to_datetime(df['Event.Date'], yearfirst=True)\n",
    "#Convert Event Date column to DateTime"
   ]
  },
  {
   "cell_type": "code",
   "execution_count": 166,
   "id": "0eb0ac0b-6126-4c0f-9452-eee2365937af",
   "metadata": {},
   "outputs": [],
   "source": [
    "df = df.loc[df['Event.Date'] >= '1993-01-01']\n",
    "#Remove data prior to 1993"
   ]
  },
  {
   "cell_type": "markdown",
   "id": "84d2ced2-f260-4758-95f0-10a135c4ce2a",
   "metadata": {},
   "source": [
    "On the [datasource website](https://www.kaggle.com/datasets/khsamaha/aviation-accident-database-synopses/data), it's stated under the acknowledgements that \"Full narrative descriptions may not be available for dates before 1993\" due to incomplete record keeping before it was the responsibility of National Transportation Safety Board. In order to work the most complete data, we decided to eliminate all rows with 'Event.Date's before 1993.  To do this, we had to change the 'Event.Date' column to DateTime and then filter based on date."
   ]
  },
  {
   "cell_type": "markdown",
   "id": "ded35f0e-c6da-47a4-ab00-b0ff8d81c8f6",
   "metadata": {},
   "source": [
    "# 4. Final Cleaning\n",
    "\n",
    "Based on the analysis conducted so far, it's evident that data cleaning is required. The column headers, 'Make,' and 'Model' exhibit inconsistent formatting. We'll look at this and we'll fix this with the following code. "
   ]
  },
  {
   "cell_type": "code",
   "execution_count": 167,
   "id": "8d97ac1a",
   "metadata": {},
   "outputs": [],
   "source": [
    "currentheaders = list(df.columns.values)\n",
    "df.columns = [c.replace('.', ' ').title() for c in currentheaders]\n",
    "#Clean header titles"
   ]
  },
  {
   "cell_type": "code",
   "execution_count": 168,
   "id": "a903ed8c-0f60-4e01-a9aa-dd56ca29220b",
   "metadata": {},
   "outputs": [
    {
     "data": {
      "text/plain": [
       "64959                  Cessna\n",
       "66780                  CESSNA\n",
       "70047                  CESSNA\n",
       "63501                   Piper\n",
       "83754    Textron Aviation Inc\n",
       "76834             DEHAVILLAND\n",
       "66617                  CESSNA\n",
       "72946                   PIPER\n",
       "85697                   PIPER\n",
       "83786                   Piper\n",
       "78072                ROCKWELL\n",
       "84856              Mitsubishi\n",
       "72134                   PIPER\n",
       "70595                   PIPER\n",
       "82591           ULTRALITE SRO\n",
       "Name: Make, dtype: object"
      ]
     },
     "execution_count": 168,
     "metadata": {},
     "output_type": "execute_result"
    }
   ],
   "source": [
    "df['Make'].sample(15)\n",
    "#Different spacing and characters need to be cleaned."
   ]
  },
  {
   "cell_type": "code",
   "execution_count": 169,
   "id": "01f4e03b-3b07-4ddb-a2a9-8556b0bf44bf",
   "metadata": {},
   "outputs": [
    {
     "data": {
      "text/plain": [
       "63631              172\n",
       "80582            PA 12\n",
       "69906               8E\n",
       "63123             182P\n",
       "61891      PA 32R 301T\n",
       "68017            T206H\n",
       "82312              AA1\n",
       "67565     Sportcruiser\n",
       "67227             182Q\n",
       "87832              MXS\n",
       "87357    TTX Inc. T240\n",
       "78157      CL 600 2B19\n",
       "72977               58\n",
       "69797             310R\n",
       "71144          737-7H4\n",
       "Name: Model, dtype: object"
      ]
     },
     "execution_count": 169,
     "metadata": {},
     "output_type": "execute_result"
    }
   ],
   "source": [
    "df['Model'].sample(15)\n",
    "#Different spacing and characters need to be cleaned."
   ]
  },
  {
   "cell_type": "code",
   "execution_count": 170,
   "id": "28148382",
   "metadata": {},
   "outputs": [],
   "source": [
    "df['Make'] = df['Make'].str.upper()\n",
    "df['Model'] = df['Model'].str.upper()\n",
    "\n",
    "df['Make'] = df['Make'].str.replace('-', '')\n",
    "df['Make'] = df['Make'].str.replace('(', '')\n",
    "df['Make'] = df['Make'].str.replace(')', '')\n",
    "df['Make'] = df['Make'].str.replace('/', '')\n",
    "df['Make'] = df['Make'].str.replace(' ', '')\n",
    "df['Make'] = df['Make'].str.replace('.', '')\n",
    "df['Make'] = df['Make'].str.replace('&', '')\n",
    "df['Model'] = df['Model'].str.replace('-', '')\n",
    "df['Model'] = df['Model'].str.replace('(', '')\n",
    "df['Model'] = df['Model'].str.replace(')', '')\n",
    "df['Model'] = df['Model'].str.replace('/', '')\n",
    "df['Model'] = df['Model'].str.replace(' ', '')\n",
    "df['Model'] = df['Model'].str.replace('.', '')\n",
    "df['Model'] = df['Model'].str.replace('&', '')\n",
    "\n",
    "#Clean strings in Make and Model columns by replacing special characters with '' and changing the case to all upper"
   ]
  },
  {
   "cell_type": "markdown",
   "id": "457e164b-8296-4291-a892-b57376e6b4ed",
   "metadata": {},
   "source": [
    "In the next steps we'll look closer at some remaining columns to analyze the data for elimination and cleaning."
   ]
  },
  {
   "cell_type": "code",
   "execution_count": 171,
   "id": "0fa37001-0374-41fb-b218-1c9b4b160ada",
   "metadata": {},
   "outputs": [
    {
     "data": {
      "text/plain": [
       "VMC    16592\n",
       "IMC      947\n",
       "Unk      107\n",
       "UNK        2\n",
       "Name: Weather Condition, dtype: int64"
      ]
     },
     "execution_count": 171,
     "metadata": {},
     "output_type": "execute_result"
    }
   ],
   "source": [
    "df['Weather Condition'].value_counts()"
   ]
  },
  {
   "cell_type": "code",
   "execution_count": 172,
   "id": "c8cc26b9-1d21-47dd-ac5a-b2a308747b0a",
   "metadata": {},
   "outputs": [
    {
     "data": {
      "text/plain": [
       "Landing        1246\n",
       "Takeoff         485\n",
       "Cruise          251\n",
       "Approach        224\n",
       "Maneuvering     153\n",
       "Taxi            106\n",
       "Go-around        89\n",
       "Descent          64\n",
       "Climb            53\n",
       "Standing         44\n",
       "Unknown          12\n",
       "Other             2\n",
       "Name: Broad Phase Of Flight, dtype: int64"
      ]
     },
     "execution_count": 172,
     "metadata": {},
     "output_type": "execute_result"
    }
   ],
   "source": [
    "df['Broad Phase Of Flight'].value_counts()"
   ]
  },
  {
   "cell_type": "code",
   "execution_count": 173,
   "id": "2688c1a5-d691-419e-a16a-5f84e7100a77",
   "metadata": {},
   "outputs": [
    {
     "data": {
      "text/plain": [
       "32592    17-08-2012\n",
       "33535    17-10-2016\n",
       "33711    17-10-2016\n",
       "33880    28-12-2010\n",
       "34210    01-02-2016\n",
       "Name: Publication Date, dtype: object"
      ]
     },
     "execution_count": 173,
     "metadata": {},
     "output_type": "execute_result"
    }
   ],
   "source": [
    "df['Publication Date'].head()"
   ]
  },
  {
   "cell_type": "code",
   "execution_count": 174,
   "id": "dbb99d85-ca2b-42c2-8c75-afa567f81c5c",
   "metadata": {},
   "outputs": [
    {
     "data": {
      "text/plain": [
       "Accident    17642\n",
       "Incident      434\n",
       "Name: Investigation Type, dtype: int64"
      ]
     },
     "execution_count": 174,
     "metadata": {},
     "output_type": "execute_result"
    }
   ],
   "source": [
    "df['Investigation Type'].value_counts()"
   ]
  },
  {
   "cell_type": "code",
   "execution_count": 175,
   "id": "9c67b0c9-0ed8-4eeb-b8a2-8421813ddd37",
   "metadata": {},
   "outputs": [
    {
     "data": {
      "text/plain": [
       "UNREG     13\n",
       "N8402K     5\n",
       "N5408Y     4\n",
       "N99HV      4\n",
       "N323KT     4\n",
       "          ..\n",
       "N95514     1\n",
       "N5562Q     1\n",
       "N523R      1\n",
       "N602SS     1\n",
       "N544LM     1\n",
       "Name: Registration Number, Length: 17400, dtype: int64"
      ]
     },
     "execution_count": 175,
     "metadata": {},
     "output_type": "execute_result"
    }
   ],
   "source": [
    "df['Registration Number'].value_counts()"
   ]
  },
  {
   "cell_type": "markdown",
   "id": "b23934a4-42c5-463a-ae66-b7649f8da631",
   "metadata": {},
   "source": [
    "The columns 'Broad Phase Of Flight,' 'Registration Number,' 'Weather Condition,' and 'Publication Date' contain irrelevant data concerning the purchase of a safe airplane. Although weather and visibility undoubtedly influence safety, these variables won't impact the type of plane we recommend.\n",
    "\n",
    "We researched the difference between ['Incident' and 'Accident'](https://www.aviation.govt.nz/safety/safety-reporting/what-is-an-accident-or-incident/#:~:text=The%20word%20'occurrence'%20is%20used,mean%20any%20accident%20or%20incident.&text=the%20aircraft%20is%20missing%20or,affect%2C%20the%20safety%20of%20operation.) values in the 'Investigation Type' column. An 'Incident' is defined as 'any occurrence, other than an accident, associated with the operation of an aircraft and affects, or could affect, the safety of operation.' An accident is defined as 'an occurrence associated with the operation of an aircraft' that results in injury or fatality.\n",
    "\n",
    "Based on these definitions, we are interested in both 'Investigation Types.' We'll keep this column.\n",
    "\n",
    "Consequently, we will eliminate all the discussed columns, along with 'Country' and 'Aircraft Category,' which have become irrelevant after cleaning up the rows."
   ]
  },
  {
   "cell_type": "code",
   "execution_count": 176,
   "id": "141ae450",
   "metadata": {},
   "outputs": [],
   "source": [
    "df.drop(['Country', 'Aircraft Category', 'Registration Number', 'Broad Phase Of Flight', 'Weather Condition', 'Publication Date'], axis=1, inplace = True)\n",
    "#Remove Country, Aircraft Category, Broad Phase of Flight, Weather Condition, and Publication Date columns"
   ]
  },
  {
   "cell_type": "code",
   "execution_count": 177,
   "id": "8966757b-7f25-488f-8353-3b9b73479feb",
   "metadata": {},
   "outputs": [
    {
     "name": "stdout",
     "output_type": "stream",
     "text": [
      "<class 'pandas.core.frame.DataFrame'>\n",
      "Int64Index: 18076 entries, 32592 to 88886\n",
      "Data columns (total 15 columns):\n",
      " #   Column                  Non-Null Count  Dtype         \n",
      "---  ------                  --------------  -----         \n",
      " 0   Investigation Type      18076 non-null  object        \n",
      " 1   Accident Number         18076 non-null  object        \n",
      " 2   Event Date              18076 non-null  datetime64[ns]\n",
      " 3   Location                18076 non-null  object        \n",
      " 4   Aircraft Damage         17645 non-null  object        \n",
      " 5   Make                    18076 non-null  object        \n",
      " 6   Model                   18076 non-null  object        \n",
      " 7   Number Of Engines       17592 non-null  float64       \n",
      " 8   Engine Type             16427 non-null  object        \n",
      " 9   Far Description         18074 non-null  object        \n",
      " 10  Total Fatal Injuries    15552 non-null  float64       \n",
      " 11  Total Serious Injuries  15575 non-null  float64       \n",
      " 12  Total Minor Injuries    15856 non-null  float64       \n",
      " 13  Total Uninjured         17568 non-null  float64       \n",
      " 14  Report Status           16152 non-null  object        \n",
      "dtypes: datetime64[ns](1), float64(5), object(9)\n",
      "memory usage: 2.2+ MB\n"
     ]
    }
   ],
   "source": [
    "df.info()"
   ]
  },
  {
   "cell_type": "markdown",
   "id": "e0766334-d9cf-4035-bcd7-9220b3ed1247",
   "metadata": {},
   "source": [
    "Things are looking much cleaner and more consise. For our final cleaning before we start analyzing the pertinent data, we'll check out the rest of the columns that aren't obvious if they are helpful or not."
   ]
  },
  {
   "cell_type": "code",
   "execution_count": 178,
   "id": "72e13f84-a0de-4f61-8bfe-ae202508062b",
   "metadata": {},
   "outputs": [
    {
     "data": {
      "text/plain": [
       "Probable Cause                                                                                                                                                                                                                                                                                                                                                                                                               2729\n",
       "The pilot's failure to maintain directional control during the landing roll.                                                                                                                                                                                                                                                                                                                                                   50\n",
       "A loss of engine power for undetermined reasons.                                                                                                                                                                                                                                                                                                                                                                               44\n",
       "The pilot's failure to maintain directional control during landing.                                                                                                                                                                                                                                                                                                                                                            35\n",
       "A total loss of engine power for undetermined reasons.                                                                                                                                                                                                                                                                                                                                                                         31\n",
       "                                                                                                                                                                                                                                                                                                                                                                                                                             ... \n",
       "The amphibious airplane's collision with submerged debris during taxi for takeoff, and the resulting damage to the hull.                                                                                                                                                                                                                                                                                                        1\n",
       "The pilotís failure to maintain clearance from terrain during a night approach. Contributing to the accident was the pilotís non-standard traffic pattern over higher terrain.                                                                                                                                                                                                                                                  1\n",
       "The student pilot's improper landing flare and the flight instructor's inadequate supervision, which resulted in a hard landing.\\r                                                                                                                                                                                                                                                                                              1\n",
       "The airplane's collision with fence posts during an aborted takeoff due to a sudden change in wind direction.                                                                                                                                                                                                                                                                                                                   1\n",
       "The misfueling of the airplane with jet fuel instead of the required aviation fuel, and the resultant detonation and a total loss of engine power during initial climb. Contributing to the accident were the line service technician's inadvertent misfueling of the airplane, the pilot's inadequate supervision of the fuel servicing, and the fixed-base operator's use of a small fuel nozzle on its jet fuel truck.       1\n",
       "Name: Report Status, Length: 12409, dtype: int64"
      ]
     },
     "execution_count": 178,
     "metadata": {},
     "output_type": "execute_result"
    }
   ],
   "source": [
    "df['Report Status'].value_counts()"
   ]
  },
  {
   "cell_type": "code",
   "execution_count": 179,
   "id": "93a4851e-229d-4026-af7f-40a006520d13",
   "metadata": {},
   "outputs": [
    {
     "data": {
      "text/plain": [
       "091                              13336\n",
       "Part 91: General Aviation         2430\n",
       "137                                739\n",
       "135                                527\n",
       "121                                523\n",
       "Part 137: Agricultural             148\n",
       "PUBU                               124\n",
       "Part 135: Air Taxi & Commuter       68\n",
       "Part 121: Air Carrier               62\n",
       "129                                 45\n",
       "091K                                14\n",
       "NUSC                                12\n",
       "NUSN                                10\n",
       "Public Use                           9\n",
       "Part 129: Foreign                    8\n",
       "UNK                                  7\n",
       "Unknown                              4\n",
       "125                                  4\n",
       "ARMF                                 2\n",
       "Part 125: 20+ Pax,6000+ lbs          1\n",
       "Part 91 Subpart K: Fractional        1\n",
       "Name: Far Description, dtype: int64"
      ]
     },
     "execution_count": 179,
     "metadata": {},
     "output_type": "execute_result"
    }
   ],
   "source": [
    "df['Far Description'].value_counts()"
   ]
  },
  {
   "cell_type": "code",
   "execution_count": 180,
   "id": "7574aab3-a1a6-4f30-848b-8486ea9c1e8b",
   "metadata": {},
   "outputs": [
    {
     "data": {
      "text/plain": [
       "Reciprocating    14513\n",
       "Turbo Prop        1117\n",
       "Turbo Fan          650\n",
       "Turbo Jet          119\n",
       "Unknown             12\n",
       "Turbo Shaft         10\n",
       "Electric             5\n",
       "UNK                  1\n",
       "Name: Engine Type, dtype: int64"
      ]
     },
     "execution_count": 180,
     "metadata": {},
     "output_type": "execute_result"
    }
   ],
   "source": [
    "df['Engine Type'].value_counts()"
   ]
  },
  {
   "cell_type": "code",
   "execution_count": 181,
   "id": "f9e585fe-ed4c-47a0-b558-cacc9e1508c9",
   "metadata": {},
   "outputs": [
    {
     "data": {
      "text/plain": [
       "1.0    15170\n",
       "2.0     2356\n",
       "4.0       41\n",
       "3.0       20\n",
       "0.0        3\n",
       "6.0        1\n",
       "8.0        1\n",
       "Name: Number Of Engines, dtype: int64"
      ]
     },
     "execution_count": 181,
     "metadata": {},
     "output_type": "execute_result"
    }
   ],
   "source": [
    "df['Number Of Engines'].value_counts()"
   ]
  },
  {
   "cell_type": "markdown",
   "id": "8cb592f6-6756-4ca5-b825-5b070a8cf486",
   "metadata": {},
   "source": [
    "We decided to keep 'Report Status' and 'FAR Description.' While they may not significantly contribute to our ultimate findings, they could serve as helpful references if another datapoint becomes confusing.\n",
    "\n",
    "We also chose to retain 'Engine Type' and 'Number Of Engines' as they may be interesting variables to consider when examining overall safety.\n",
    "\n",
    "# 5. Filling in remaining missing data\n",
    "\n",
    "As we've identified, 'Aircraft Damage,' 'Total Fatal Injuries,' 'Total Serious Injuries,' 'Total Minor Injuries,' and 'Total Uninjured' will be our most important values when it comes to analyzing safety. We'll examine these columns and perform statistical analysis to fill in the NaNs, particularly in these columns, and in others where possible."
   ]
  },
  {
   "cell_type": "code",
   "execution_count": 182,
   "id": "785d7482-49e9-4f58-9dfc-e703732dcda0",
   "metadata": {},
   "outputs": [
    {
     "data": {
      "text/plain": [
       "Investigation Type           0\n",
       "Accident Number              0\n",
       "Event Date                   0\n",
       "Location                     0\n",
       "Aircraft Damage            431\n",
       "Make                         0\n",
       "Model                        0\n",
       "Number Of Engines          484\n",
       "Engine Type               1649\n",
       "Far Description              2\n",
       "Total Fatal Injuries      2524\n",
       "Total Serious Injuries    2501\n",
       "Total Minor Injuries      2220\n",
       "Total Uninjured            508\n",
       "Report Status             1924\n",
       "dtype: int64"
      ]
     },
     "execution_count": 182,
     "metadata": {},
     "output_type": "execute_result"
    }
   ],
   "source": [
    "df.isna().sum()"
   ]
  },
  {
   "cell_type": "code",
   "execution_count": 183,
   "id": "333e6cfd-3740-4262-abd8-e0ce4d70c886",
   "metadata": {},
   "outputs": [
    {
     "data": {
      "text/plain": [
       "32592    2.0\n",
       "33535    1.0\n",
       "33711    1.0\n",
       "33880    NaN\n",
       "34210    1.0\n",
       "34275    0.0\n",
       "34342    5.0\n",
       "35545    4.0\n",
       "35887    NaN\n",
       "35933    NaN\n",
       "Name: Total Fatal Injuries, dtype: float64"
      ]
     },
     "execution_count": 183,
     "metadata": {},
     "output_type": "execute_result"
    }
   ],
   "source": [
    "df['Total Fatal Injuries'].head(10)"
   ]
  },
  {
   "cell_type": "code",
   "execution_count": 184,
   "id": "8cd563c7-8d07-4a9c-a929-91b3b6b7116c",
   "metadata": {},
   "outputs": [
    {
     "data": {
      "text/plain": [
       "32592    NaN\n",
       "33535    NaN\n",
       "33711    NaN\n",
       "33880    NaN\n",
       "34210    NaN\n",
       "34275    0.0\n",
       "34342    NaN\n",
       "35545    NaN\n",
       "35887    1.0\n",
       "35933    NaN\n",
       "Name: Total Minor Injuries, dtype: float64"
      ]
     },
     "execution_count": 184,
     "metadata": {},
     "output_type": "execute_result"
    }
   ],
   "source": [
    "df['Total Minor Injuries'].head(10)"
   ]
  },
  {
   "cell_type": "code",
   "execution_count": 185,
   "id": "e0989d4b-2f2f-4502-86ab-2632247429fb",
   "metadata": {},
   "outputs": [
    {
     "data": {
      "text/html": [
       "<div>\n",
       "<style scoped>\n",
       "    .dataframe tbody tr th:only-of-type {\n",
       "        vertical-align: middle;\n",
       "    }\n",
       "\n",
       "    .dataframe tbody tr th {\n",
       "        vertical-align: top;\n",
       "    }\n",
       "\n",
       "    .dataframe thead th {\n",
       "        text-align: right;\n",
       "    }\n",
       "</style>\n",
       "<table border=\"1\" class=\"dataframe\">\n",
       "  <thead>\n",
       "    <tr style=\"text-align: right;\">\n",
       "      <th></th>\n",
       "      <th>Number Of Engines</th>\n",
       "      <th>Total Fatal Injuries</th>\n",
       "      <th>Total Serious Injuries</th>\n",
       "      <th>Total Minor Injuries</th>\n",
       "      <th>Total Uninjured</th>\n",
       "    </tr>\n",
       "  </thead>\n",
       "  <tbody>\n",
       "    <tr>\n",
       "      <th>count</th>\n",
       "      <td>17592.000000</td>\n",
       "      <td>15552.000000</td>\n",
       "      <td>15575.000000</td>\n",
       "      <td>15856.000000</td>\n",
       "      <td>17568.000000</td>\n",
       "    </tr>\n",
       "    <tr>\n",
       "      <th>mean</th>\n",
       "      <td>1.143702</td>\n",
       "      <td>0.326067</td>\n",
       "      <td>0.300161</td>\n",
       "      <td>0.201879</td>\n",
       "      <td>5.069843</td>\n",
       "    </tr>\n",
       "    <tr>\n",
       "      <th>std</th>\n",
       "      <td>0.378395</td>\n",
       "      <td>2.117862</td>\n",
       "      <td>1.873722</td>\n",
       "      <td>0.768046</td>\n",
       "      <td>26.445175</td>\n",
       "    </tr>\n",
       "    <tr>\n",
       "      <th>min</th>\n",
       "      <td>0.000000</td>\n",
       "      <td>0.000000</td>\n",
       "      <td>0.000000</td>\n",
       "      <td>0.000000</td>\n",
       "      <td>0.000000</td>\n",
       "    </tr>\n",
       "    <tr>\n",
       "      <th>25%</th>\n",
       "      <td>1.000000</td>\n",
       "      <td>0.000000</td>\n",
       "      <td>0.000000</td>\n",
       "      <td>0.000000</td>\n",
       "      <td>0.000000</td>\n",
       "    </tr>\n",
       "    <tr>\n",
       "      <th>50%</th>\n",
       "      <td>1.000000</td>\n",
       "      <td>0.000000</td>\n",
       "      <td>0.000000</td>\n",
       "      <td>0.000000</td>\n",
       "      <td>1.000000</td>\n",
       "    </tr>\n",
       "    <tr>\n",
       "      <th>75%</th>\n",
       "      <td>1.000000</td>\n",
       "      <td>0.000000</td>\n",
       "      <td>0.000000</td>\n",
       "      <td>0.000000</td>\n",
       "      <td>2.000000</td>\n",
       "    </tr>\n",
       "    <tr>\n",
       "      <th>max</th>\n",
       "      <td>8.000000</td>\n",
       "      <td>228.000000</td>\n",
       "      <td>137.000000</td>\n",
       "      <td>50.000000</td>\n",
       "      <td>576.000000</td>\n",
       "    </tr>\n",
       "  </tbody>\n",
       "</table>\n",
       "</div>"
      ],
      "text/plain": [
       "       Number Of Engines  Total Fatal Injuries  Total Serious Injuries  \\\n",
       "count       17592.000000          15552.000000            15575.000000   \n",
       "mean            1.143702              0.326067                0.300161   \n",
       "std             0.378395              2.117862                1.873722   \n",
       "min             0.000000              0.000000                0.000000   \n",
       "25%             1.000000              0.000000                0.000000   \n",
       "50%             1.000000              0.000000                0.000000   \n",
       "75%             1.000000              0.000000                0.000000   \n",
       "max             8.000000            228.000000              137.000000   \n",
       "\n",
       "       Total Minor Injuries  Total Uninjured  \n",
       "count          15856.000000     17568.000000  \n",
       "mean               0.201879         5.069843  \n",
       "std                0.768046        26.445175  \n",
       "min                0.000000         0.000000  \n",
       "25%                0.000000         0.000000  \n",
       "50%                0.000000         1.000000  \n",
       "75%                0.000000         2.000000  \n",
       "max               50.000000       576.000000  "
      ]
     },
     "execution_count": 185,
     "metadata": {},
     "output_type": "execute_result"
    }
   ],
   "source": [
    "df.describe()"
   ]
  },
  {
   "cell_type": "code",
   "execution_count": 186,
   "id": "f132a351-9be1-424d-8afa-ca92d5889dae",
   "metadata": {},
   "outputs": [
    {
     "data": {
      "text/plain": [
       "Substantial    15795\n",
       "Destroyed       1443\n",
       "Minor            367\n",
       "Unknown           40\n",
       "Name: Aircraft Damage, dtype: int64"
      ]
     },
     "execution_count": 186,
     "metadata": {},
     "output_type": "execute_result"
    }
   ],
   "source": [
    "df['Aircraft Damage'].value_counts()"
   ]
  },
  {
   "cell_type": "code",
   "execution_count": 187,
   "id": "ee9be1b6-b408-40f4-a31d-7bd9217823ed",
   "metadata": {},
   "outputs": [
    {
     "data": {
      "text/plain": [
       "1.0"
      ]
     },
     "execution_count": 187,
     "metadata": {},
     "output_type": "execute_result"
    }
   ],
   "source": [
    "df['Number Of Engines'].median()"
   ]
  },
  {
   "cell_type": "markdown",
   "id": "e37f6a3d-0781-4c3f-89da-b475b9dc2d71",
   "metadata": {},
   "source": [
    "Based on our analysis, we can reasonably assume that any NaNs in the Injury columns should be interpreted as 0. Operating under this assumption, we have chosen to fill the NaNs in these categories with 0s.\n",
    "\n",
    "The 'Number Of Engines' mean is 1.14, but the data is skewed towards the minimum. Due to this skewness, it's more accurate to fill in the missing data in the column with the median, which is 1.\n",
    "\n",
    "Additionally, we identified more missing data under 'Aircraft Damage.' We will replace the 'Unknowns' with NaNs.\n",
    "\n",
    "There is no accurate method to fill in the missing data in 'Aircraft Damage' or 'Engine Type,' so we will leave those NaNs in place."
   ]
  },
  {
   "cell_type": "code",
   "execution_count": 188,
   "id": "777691d8",
   "metadata": {},
   "outputs": [],
   "source": [
    "df['Number Of Engines'] = df['Number Of Engines'].fillna(1)\n",
    "df['Total Fatal Injuries'] = df['Total Fatal Injuries'].fillna(0)\n",
    "df['Total Serious Injuries'] = df['Total Serious Injuries'].fillna(0)\n",
    "df['Total Minor Injuries'] = df['Total Minor Injuries'].fillna(0)\n",
    "df['Total Uninjured'] = df['Total Uninjured'].fillna(0)\n",
    "\n",
    "#Fill NaNs - Number of Engines with 1 (median/mode), Fatal Injuries with 0 (intended input), Serious Injuries with 0 (intended input), Minor Injuries with 0 (intended input), and Uninjured with 1 (most common value and results in at least 1 passenger for each accident)"
   ]
  },
  {
   "cell_type": "code",
   "execution_count": 189,
   "id": "72ca991f",
   "metadata": {},
   "outputs": [],
   "source": [
    "df['Aircraft Damage'].replace('Unknown', np.nan, inplace = True)\n",
    "#Replace 'Unknown' values in Aircraft Damage with NaN"
   ]
  },
  {
   "cell_type": "markdown",
   "id": "40ff602d-3d6b-4112-8eaa-d872bac4fdfa",
   "metadata": {},
   "source": [
    "Finally, we know that White Lotus is looking for private aircrafts. We can narrow down our data by omitting rows that are not indicated to be private based on the 'FAR Description.'"
   ]
  },
  {
   "cell_type": "code",
   "execution_count": 190,
   "id": "7712ce98-9116-449b-b96e-ef63f82daf0e",
   "metadata": {},
   "outputs": [],
   "source": [
    "df['Far Description'].replace('091', 91, inplace = True)\n",
    "df['Far Description'].replace('Part 91: General Aviation', 91, inplace = True)\n",
    "df['Far Description'].replace('091K', 91, inplace = True)\n",
    "df['Far Description'].replace('Part 91 Subpart K: Fractional', 91, inplace = True)\n",
    "df = df[df['Far Description'] == 91]\n",
    "#Removed commercial flights and narrowed planes down to private flights only"
   ]
  },
  {
   "cell_type": "markdown",
   "id": "a5a7cc31-7bea-4e64-be5e-7f0d4d6e3b46",
   "metadata": {},
   "source": [
    "# 6 Method of Saftey Measurement\n",
    "\n",
    "### Developing a Safety Measurement and Ranking Method\n",
    "\n",
    "After completing the cleaning, eliminating, filtering, and analysis processes, we still have a substantial amount of data with numerous variables influencing safety.\n",
    "\n",
    "Our aim is to create a safety score based on these variables. Among these, the only variable not already represented by a numerical value is 'Aircraft Damage.' Therefore, we will assign weighted numerical values to replace the existing entries in that column. Then, for the missing data in that column, we'll fill in with the mean.\n",
    "\n",
    "Since guest safety is our ultimate goal, injuries, especially fatal injuries, are something we want to avoid. We'll also weight those values accordingly, then calculate a new column 'Safety Score'"
   ]
  },
  {
   "cell_type": "code",
   "execution_count": 191,
   "id": "53498e49",
   "metadata": {},
   "outputs": [],
   "source": [
    "df['Aircraft Damage'].replace('Substantial', 1, inplace = True)\n",
    "df['Aircraft Damage'].replace('Destroyed', 2, inplace = True)\n",
    "df['Aircraft Damage'].replace('Minor', 0, inplace = True)\n",
    "#Assign scores to Aircraft Damage\n",
    "    #Destroyed = 2, Substantial = 1, Minor = 0"
   ]
  },
  {
   "cell_type": "code",
   "execution_count": 192,
   "id": "78ebde37",
   "metadata": {},
   "outputs": [],
   "source": [
    "mean_damage = df['Aircraft Damage'].mean()\n",
    "df['Aircraft Damage'].fillna(mean_damage, inplace = True)\n",
    "#Fill NaNs in Aircraft Damage with the mean score"
   ]
  },
  {
   "cell_type": "code",
   "execution_count": 193,
   "id": "86e85222",
   "metadata": {},
   "outputs": [],
   "source": [
    "df['Total Passengers'] = df['Total Fatal Injuries'] + df['Total Serious Injuries'] + df['Total Minor Injuries'] + df['Total Uninjured']\n",
    "df['Total Passengers'].replace(0, 1, inplace = True)\n",
    "#Create new column, Total Passengers, which combines the total number of people accounted for in a given data point"
   ]
  },
  {
   "cell_type": "code",
   "execution_count": 194,
   "id": "68bf6a81",
   "metadata": {},
   "outputs": [],
   "source": [
    "df['Investigation Type Score'] = df['Investigation Type']\n",
    "df['Investigation Type Score'] = df['Investigation Type Score'].replace('Accident', 0.9)\n",
    "df['Investigation Type Score'] = df['Investigation Type Score'].replace('Incident', 1)\n",
    "#Assign score multiplier to Investigation Type by assigning multiplier of 0.9 to Accidents and multiplier of 1 to Incidents"
   ]
  },
  {
   "cell_type": "code",
   "execution_count": 195,
   "id": "c64d6be3",
   "metadata": {},
   "outputs": [],
   "source": [
    "df['Fatality Injury Score'] = 1 - (((8 * df['Total Fatal Injuries']) + (4 * df['Total Serious Injuries']) + (2 * df['Total Minor Injuries']) + (0 * df['Total Uninjured'])) / (14 * df['Total Passengers']))\n",
    "#Assign score multiplier to fatalities and injuries by weighting Serious injuries as 2x as detrimental as Minor and Fatal injuries as 2x as detrimental as Serious"
   ]
  },
  {
   "cell_type": "code",
   "execution_count": 196,
   "id": "589bbf39",
   "metadata": {},
   "outputs": [],
   "source": [
    "df['Plane Damage Score'] = 1 - (df['Aircraft Damage'] / 4)\n",
    "#Assign score multiplier to plane damage such that completely destroyed planes multiply safety score by 0.5, substantially damaged planes by 0.75, and planes with minor damage by 1"
   ]
  },
  {
   "cell_type": "code",
   "execution_count": 197,
   "id": "daddfb34",
   "metadata": {},
   "outputs": [],
   "source": [
    "df['Safety Score'] = 1 * df['Investigation Type Score'] * df['Fatality Injury Score'] * df['Plane Damage Score']\n",
    "#Assigned an overall Safety Score to each data point"
   ]
  },
  {
   "cell_type": "code",
   "execution_count": 198,
   "id": "01c34a14-73dd-4209-86de-b265fa133e90",
   "metadata": {},
   "outputs": [
    {
     "data": {
      "text/plain": [
       "Index(['Investigation Type', 'Accident Number', 'Event Date', 'Location',\n",
       "       'Aircraft Damage', 'Make', 'Model', 'Number Of Engines', 'Engine Type',\n",
       "       'Far Description', 'Total Fatal Injuries', 'Total Serious Injuries',\n",
       "       'Total Minor Injuries', 'Total Uninjured', 'Report Status',\n",
       "       'Total Passengers', 'Investigation Type Score', 'Fatality Injury Score',\n",
       "       'Plane Damage Score', 'Safety Score'],\n",
       "      dtype='object')"
      ]
     },
     "execution_count": 198,
     "metadata": {},
     "output_type": "execute_result"
    }
   ],
   "source": [
    "df.columns\n",
    "#Checking for new column"
   ]
  },
  {
   "cell_type": "code",
   "execution_count": 199,
   "id": "74946758-5d57-4838-b093-face56f25f6e",
   "metadata": {},
   "outputs": [],
   "source": [
    "df['Make'].replace('IAI', 'ISRAELAIRCRAFTINDUSTRIES', inplace = True)\n",
    "df['Make'].replace('AEROTEK', 'AEROTEKAVIAT', inplace = True)\n",
    "df['Make'].replace('AEROTEKINC', 'AEROTEKAVIAT', inplace = True)\n",
    "df['Make'].replace('AVIAT', 'AEROTEKAVIAT', inplace = True)\n",
    "df['Make'].replace('AVIATAIRCRAFTINC', 'AEROTEKAVIAT', inplace = True)\n",
    "df['Make'].replace('AVIATINC', 'AEROTEKAVIAT', inplace = True)\n",
    "df['Make'].replace('AVIATAIRCRAFT', 'AEROTEKAVIAT', inplace = True)\n",
    "\n",
    "#Combining duplicate Makes for final piece of cleaning"
   ]
  },
  {
   "cell_type": "markdown",
   "id": "7829e3d9-e551-43fa-aa4e-9105cd97e4b9",
   "metadata": {},
   "source": [
    "# 7 Final Data Analysis and Visualizations "
   ]
  },
  {
   "cell_type": "code",
   "execution_count": 293,
   "id": "90a7163d-5e67-46c2-b81d-47e89ff5705e",
   "metadata": {},
   "outputs": [],
   "source": [
    "df_cost = pd.read_csv('./Data/TopAircraftCosts.csv')\n",
    "#import Cost data"
   ]
  },
  {
   "cell_type": "code",
   "execution_count": 294,
   "id": "794f90ba-5765-4569-9fc1-94be4b90c6dc",
   "metadata": {},
   "outputs": [
    {
     "data": {
      "image/png": "[encoded data removed]",
      "text/plain": [
       "<Figure size 432x288 with 1 Axes>"
      ]
     },
     "metadata": {
      "needs_background": "light"
     },
     "output_type": "display_data"
    }
   ],
   "source": [
    "df['MakeModel'] = df['Make'] + df['Model']\n",
    "#Added column to combine Make and Model into one name\n",
    "\n",
    "df_makemodel = df.groupby(['MakeModel']).mean().sort_values(by = 'Safety Score', ascending = False).reset_index()\n",
    "#Arranged a dataframe with MakeModel as the index and the mean values of each numerical column as the values.\n",
    "#Then, reset the index so MakeModel becomes a column again, maintaining the sorting\n",
    "\n",
    "df_makemodel_top29 = df_makemodel.iloc[:29]\n",
    "#Selected only the top 29 rows\n",
    "\n",
    "ax = sns.barplot(x=df_makemodel_top29['MakeModel'], y=df_makemodel_top29['Safety Score'], data=df_makemodel_top29);\n",
    "#Created a barplot that showed the top 29 MakeModels and their average safety score\n",
    "\n",
    "ax.set_title('Top Safety Scores by Model')\n",
    "ax.set(xlabel = 'Plane Model', ylabel = 'Average Safety Score')\n",
    "ax.tick_params(axis = 'x', rotation = 90)\n",
    "#Rotated the x ticks to make them legible and titled graph"
   ]
  },
  {
   "cell_type": "code",
   "execution_count": 330,
   "id": "ace9ba3d-ac7e-47b0-b8c3-931ac4f59357",
   "metadata": {},
   "outputs": [
    {
     "data": {
      "image/png": "[encoded data removed]",
      "text/plain": [
       "<Figure size 432x288 with 1 Axes>"
      ]
     },
     "metadata": {},
     "output_type": "display_data"
    }
   ],
   "source": [
    "df_make = df.groupby(['Make']).mean().sort_values(by = 'Safety Score', ascending = False).reset_index()\n",
    "#Arranged a dataframe with Make as the index and the mean values of each numerical column as the values.\n",
    "#Then, reset the index so Make becomes a column again, maintaining the sorting\n",
    "\n",
    "df_make_top10 = df_make.iloc[:10]\n",
    "#Selected the top 10 makes with the highest average safety scores over all their models\n",
    "\n",
    "sns.set_style('darkgrid')\n",
    "ax1 = sns.scatterplot(x=df_make_top10['Make'], y=df_make_top10['Safety Score'], data = df_make_top10, color = 'red')\n",
    "#Created a scatterplot with the top 10 Makes and their average safety scores across all of their models\n",
    "\n",
    "\n",
    "ax1.set_title('Top 10 Safest Aircraft Manufacturers', fontsize = 16)\n",
    "ax1.set(xlabel = 'Manufacturer', ylabel = 'Average Safety Score')\n",
    "ax1.set_xticks(range(len(df_make_top10)))\n",
    "ax1.set_xticklabels(list(df_make_top10['Make']))\n",
    "ax1.tick_params(axis = 'x', rotation = 90)\n",
    "#Set x ticks so that they are legible, there is 1 for each Make, and that each tick is labeled.  Gave titles to x-axis, y-axis, and overall graph"
   ]
  },
  {
   "cell_type": "code",
   "execution_count": 296,
   "id": "1fdec313-b351-4f7e-afae-af4c8722e829",
   "metadata": {},
   "outputs": [],
   "source": [
    "df_cost['Ten Year Cost (Millions)'] = df_cost['Price'] + (10 * df_cost['Annual Budget'])\n",
    "df_cost['Twenty Five Year Cost (Millions)'] = df_cost['Price'] + (25 * df_cost['Annual Budget'])\n",
    "df_cost[''] = df_cost['Make and Model']\n",
    "#Create columns for 10-Year and 25-Year costs as a function of Price and Annual Budget"
   ]
  },
  {
   "cell_type": "code",
   "execution_count": 326,
   "id": "6ab4515d-7888-438e-9918-c9b67ca82203",
   "metadata": {},
   "outputs": [
    {
     "data": {
      "image/png": "[encoded data removed]",
      "text/plain": [
       "<Figure size 864x864 with 4 Axes>"
      ]
     },
     "metadata": {},
     "output_type": "display_data"
    }
   ],
   "source": [
    "fig, axs = plt.subplots(ncols=2, nrows=2)\n",
    "#Create a 2 x 2 grid of subplots\n",
    "\n",
    "sns.set_style('whitegrid')\n",
    "sns.barplot(x = df_cost[''], y = df_cost['Range (nm)'], data = df_cost, ax = axs[0, 0]).set_xticklabels(['90B', '400A', 'C90', '500T'])\n",
    "sns.barplot(x = df_cost[''], y = df_cost['Passengers'], data = df_cost, ax = axs[0,1]).set_xticklabels(['90B', '400A', 'C90', '500T'])\n",
    "sns.barplot(x = df_cost[''], y = df_cost['Ten Year Cost (Millions)'], data = df_cost, ax = axs[1,0]).set_xticklabels(['90B', '400A', 'C90', '500T'])\n",
    "sns.barplot(x = df_cost[''], y = df_cost['Twenty Five Year Cost (Millions)'], data = df_cost, ax = axs[1,1]).set_xticklabels(['90B', '400A', 'C90', '500T'])\n",
    "#Create graphs for Range, Passenger count, 10-Year Cost, and 25-Year Cost and shorten model names to be more legible\n",
    "\n",
    "fig.suptitle('Cost Breakdown and Capability', fontsize = 24)\n",
    "axs[0,0].set_title('Range')\n",
    "axs[0,1].set_title('Max Passengers')\n",
    "axs[1,0].set_title('10-Year Cost')\n",
    "axs[1,1].set_title('25-Year-Cost')\n",
    "fig.set_figheight(12)\n",
    "fig.set_figwidth(12)\n",
    "#Increase figure size so everything is legible"
   ]
  },
  {
   "cell_type": "code",
   "execution_count": 328,
   "id": "fd860993-4f4b-46a0-b9f1-59a34c55b740",
   "metadata": {},
   "outputs": [
    {
     "data": {
      "image/png": "[encoded data removed]",
      "text/plain": [
       "<Figure size 432x288 with 1 Axes>"
      ]
     },
     "metadata": {},
     "output_type": "display_data"
    }
   ],
   "source": [
    "categories = ['Investigation Type', 'Accident Number', 'Event Date', 'Location', 'Aircraft Damage', 'Make', 'Model', 'Number of Engines', 'Engine Type', 'FAR Description', 'Total Fatal Injuries', 'Total Serious Injuries', 'Total Minor Injuries', 'Total Uninjured', 'Report Status']\n",
    "missingness = [0, 0, 0, 0, 431, 0, 0, 484, 1649, 2, 2524, 2501, 2220, 508, 1924]\n",
    "#Since we eliminated this column earlier, this info had to be hard-coded in\n",
    "\n",
    "ax2 = sns.barplot(x = categories, y = missingness)\n",
    "ax2.set_title('Missing Data', fontsize = 16)\n",
    "ax2.set(xlabel = 'Number of NaNs', ylabel = 'Columns')\n",
    "ax2.tick_params(axis = 'x', rotation = 90)\n",
    "#Created graph of missing data by column in the original dataset"
   ]
  }
 ],
 "metadata": {
  "kernelspec": {
   "display_name": "Python (learn-env)",
   "language": "python",
   "name": "learn-env"
  },
  "language_info": {
   "codemirror_mode": {
    "name": "ipython",
    "version": 3
   },
   "file_extension": ".py",
   "mimetype": "text/x-python",
   "name": "python",
   "nbconvert_exporter": "python",
   "pygments_lexer": "ipython3",
   "version": "3.8.5"
  }
 },
 "nbformat": 4,
 "nbformat_minor": 5
}
