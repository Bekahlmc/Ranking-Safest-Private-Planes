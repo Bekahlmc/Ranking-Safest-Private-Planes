{
 "cells": [
  {
   "cell_type": "markdown",
   "metadata": {},
   "source": [
    "# "
   ]
  },
  {
   "cell_type": "markdown",
   "metadata": {},
   "source": [
    "# Fly Safely to Your Destination Vacation: Ranking private airplanes based on safety and risk\n",
    "### Lotus Baumgarner, Norman Jen, and Bekah McLaughlin\n",
    "\n",
    "\n",
    "<img src = \"./Images/private_jet.jpeg\">\n"
   ]
  },
  {
   "cell_type": "markdown",
   "metadata": {},
   "source": [
    "### The Business Need\n",
    "\n",
    "The luxury travel resort, White Lotus, is opening a new location in Marthas Vineyard and intends to purchase private planes for guest transportation from mainland locations to the island resort property. White Lotus takes great pride in its renowned commitment to delivering a luxurious and exclusive experience, with private air travel being an integral component at this location. The primary goal is to prioritize the safety of guests and mitigate risks during transportation. Furthermore, among the safest options, White Lotus aims to pinpoint the most cost-effective, high-end, and highest passenger capacity choice.\n",
    "\n",
    "#### Safety First:\n",
    "Data analysis will focus on evaluating a database of historical incident and accident rates of different aircrafts. From these records we will extract a list the safest potential private jet options.\n",
    "  - *How do we measure safety when looking at historical records of aircraft accidents and incidents?*\n",
    "  - *Based on statistical analysis and chosen safety measuring method, what can we determine are the safest private jets to recommend to White Lotus?*\n",
    "\n",
    "#### Other Incidental Considerations:\n",
    "After compiling a list of the safest private jets, we'll also compare cost and passenger capacity.\n",
    "  - *Which option is the most cost effective?*\n",
    "  - *Which option can transport the largest group of guests?*\n",
    "  - *Which option could White Lotus splurge on for the guest experience?*\n",
    "\n",
    "**Stakeholders: White Lotus Resorts owners and investors, guests, and White Lotus employees**"
   ]
  },
  {
   "cell_type": "markdown",
   "metadata": {},
   "source": [
    "# 1. Initial Dataset assessment\n",
    "\n",
    "### Importing libraries"
   ]
  },
  {
   "cell_type": "code",
   "execution_count": 1,
   "metadata": {},
   "outputs": [],
   "source": [
    "import pandas as pd\n",
    "import numpy as np\n",
    "import matplotlib.pyplot as plt\n",
    "%matplotlib inline\n",
    "import seaborn as sns\n",
    "\n",
    "#Importing in our analytics and visualization libraries pandas, NumPy, matplotlib and seaborn"
   ]
  },
  {
   "cell_type": "markdown",
   "metadata": {},
   "source": [
    "### What does the data look like?\n",
    "\n",
    "First we'll import the dataset from National Transportation Safety Board, Aviation Accident Database & Synopses.\n"
   ]
  },
  {
   "cell_type": "code",
   "execution_count": 2,
   "metadata": {},
   "outputs": [],
   "source": [
    "df = pd.read_csv('./Data/AviationData.csv', encoding = 'mac_roman', low_memory = False)\n",
    "#Import and read .csv file"
   ]
  },
  {
   "cell_type": "markdown",
   "metadata": {},
   "source": [
    "\n",
    "Next, we'll use a few preliminary methods to get a feel for the size and content of the data.\n"
   ]
  },
  {
   "cell_type": "code",
   "execution_count": 3,
   "metadata": {},
   "outputs": [
    {
     "data": {
      "text/html": [
       "<div>\n",
       "<style scoped>\n",
       "    .dataframe tbody tr th:only-of-type {\n",
       "        vertical-align: middle;\n",
       "    }\n",
       "\n",
       "    .dataframe tbody tr th {\n",
       "        vertical-align: top;\n",
       "    }\n",
       "\n",
       "    .dataframe thead th {\n",
       "        text-align: right;\n",
       "    }\n",
       "</style>\n",
       "<table border=\"1\" class=\"dataframe\">\n",
       "  <thead>\n",
       "    <tr style=\"text-align: right;\">\n",
       "      <th></th>\n",
       "      <th>Event.Id</th>\n",
       "      <th>Investigation.Type</th>\n",
       "      <th>Accident.Number</th>\n",
       "      <th>Event.Date</th>\n",
       "      <th>Location</th>\n",
       "      <th>Country</th>\n",
       "      <th>Latitude</th>\n",
       "      <th>Longitude</th>\n",
       "      <th>Airport.Code</th>\n",
       "      <th>Airport.Name</th>\n",
       "      <th>...</th>\n",
       "      <th>Purpose.of.flight</th>\n",
       "      <th>Air.carrier</th>\n",
       "      <th>Total.Fatal.Injuries</th>\n",
       "      <th>Total.Serious.Injuries</th>\n",
       "      <th>Total.Minor.Injuries</th>\n",
       "      <th>Total.Uninjured</th>\n",
       "      <th>Weather.Condition</th>\n",
       "      <th>Broad.phase.of.flight</th>\n",
       "      <th>Report.Status</th>\n",
       "      <th>Publication.Date</th>\n",
       "    </tr>\n",
       "  </thead>\n",
       "  <tbody>\n",
       "    <tr>\n",
       "      <th>0</th>\n",
       "      <td>20001218X45444</td>\n",
       "      <td>Accident</td>\n",
       "      <td>SEA87LA080</td>\n",
       "      <td>1948-10-24</td>\n",
       "      <td>MOOSE CREEK, ID</td>\n",
       "      <td>United States</td>\n",
       "      <td>NaN</td>\n",
       "      <td>NaN</td>\n",
       "      <td>NaN</td>\n",
       "      <td>NaN</td>\n",
       "      <td>...</td>\n",
       "      <td>Personal</td>\n",
       "      <td>NaN</td>\n",
       "      <td>2.0</td>\n",
       "      <td>0.0</td>\n",
       "      <td>0.0</td>\n",
       "      <td>0.0</td>\n",
       "      <td>UNK</td>\n",
       "      <td>Cruise</td>\n",
       "      <td>Probable Cause</td>\n",
       "      <td>NaN</td>\n",
       "    </tr>\n",
       "    <tr>\n",
       "      <th>1</th>\n",
       "      <td>20001218X45447</td>\n",
       "      <td>Accident</td>\n",
       "      <td>LAX94LA336</td>\n",
       "      <td>1962-07-19</td>\n",
       "      <td>BRIDGEPORT, CA</td>\n",
       "      <td>United States</td>\n",
       "      <td>NaN</td>\n",
       "      <td>NaN</td>\n",
       "      <td>NaN</td>\n",
       "      <td>NaN</td>\n",
       "      <td>...</td>\n",
       "      <td>Personal</td>\n",
       "      <td>NaN</td>\n",
       "      <td>4.0</td>\n",
       "      <td>0.0</td>\n",
       "      <td>0.0</td>\n",
       "      <td>0.0</td>\n",
       "      <td>UNK</td>\n",
       "      <td>Unknown</td>\n",
       "      <td>Probable Cause</td>\n",
       "      <td>19-09-1996</td>\n",
       "    </tr>\n",
       "    <tr>\n",
       "      <th>2</th>\n",
       "      <td>20061025X01555</td>\n",
       "      <td>Accident</td>\n",
       "      <td>NYC07LA005</td>\n",
       "      <td>1974-08-30</td>\n",
       "      <td>Saltville, VA</td>\n",
       "      <td>United States</td>\n",
       "      <td>36.922223</td>\n",
       "      <td>-81.878056</td>\n",
       "      <td>NaN</td>\n",
       "      <td>NaN</td>\n",
       "      <td>...</td>\n",
       "      <td>Personal</td>\n",
       "      <td>NaN</td>\n",
       "      <td>3.0</td>\n",
       "      <td>NaN</td>\n",
       "      <td>NaN</td>\n",
       "      <td>NaN</td>\n",
       "      <td>IMC</td>\n",
       "      <td>Cruise</td>\n",
       "      <td>Probable Cause</td>\n",
       "      <td>26-02-2007</td>\n",
       "    </tr>\n",
       "    <tr>\n",
       "      <th>3</th>\n",
       "      <td>20001218X45448</td>\n",
       "      <td>Accident</td>\n",
       "      <td>LAX96LA321</td>\n",
       "      <td>1977-06-19</td>\n",
       "      <td>EUREKA, CA</td>\n",
       "      <td>United States</td>\n",
       "      <td>NaN</td>\n",
       "      <td>NaN</td>\n",
       "      <td>NaN</td>\n",
       "      <td>NaN</td>\n",
       "      <td>...</td>\n",
       "      <td>Personal</td>\n",
       "      <td>NaN</td>\n",
       "      <td>2.0</td>\n",
       "      <td>0.0</td>\n",
       "      <td>0.0</td>\n",
       "      <td>0.0</td>\n",
       "      <td>IMC</td>\n",
       "      <td>Cruise</td>\n",
       "      <td>Probable Cause</td>\n",
       "      <td>12-09-2000</td>\n",
       "    </tr>\n",
       "    <tr>\n",
       "      <th>4</th>\n",
       "      <td>20041105X01764</td>\n",
       "      <td>Accident</td>\n",
       "      <td>CHI79FA064</td>\n",
       "      <td>1979-08-02</td>\n",
       "      <td>Canton, OH</td>\n",
       "      <td>United States</td>\n",
       "      <td>NaN</td>\n",
       "      <td>NaN</td>\n",
       "      <td>NaN</td>\n",
       "      <td>NaN</td>\n",
       "      <td>...</td>\n",
       "      <td>Personal</td>\n",
       "      <td>NaN</td>\n",
       "      <td>1.0</td>\n",
       "      <td>2.0</td>\n",
       "      <td>NaN</td>\n",
       "      <td>0.0</td>\n",
       "      <td>VMC</td>\n",
       "      <td>Approach</td>\n",
       "      <td>Probable Cause</td>\n",
       "      <td>16-04-1980</td>\n",
       "    </tr>\n",
       "  </tbody>\n",
       "</table>\n",
       "<p>5 rows × 31 columns</p>\n",
       "</div>"
      ],
      "text/plain": [
       "         Event.Id Investigation.Type Accident.Number  Event.Date  \\\n",
       "0  20001218X45444           Accident      SEA87LA080  1948-10-24   \n",
       "1  20001218X45447           Accident      LAX94LA336  1962-07-19   \n",
       "2  20061025X01555           Accident      NYC07LA005  1974-08-30   \n",
       "3  20001218X45448           Accident      LAX96LA321  1977-06-19   \n",
       "4  20041105X01764           Accident      CHI79FA064  1979-08-02   \n",
       "\n",
       "          Location        Country   Latitude   Longitude Airport.Code  \\\n",
       "0  MOOSE CREEK, ID  United States        NaN         NaN          NaN   \n",
       "1   BRIDGEPORT, CA  United States        NaN         NaN          NaN   \n",
       "2    Saltville, VA  United States  36.922223  -81.878056          NaN   \n",
       "3       EUREKA, CA  United States        NaN         NaN          NaN   \n",
       "4       Canton, OH  United States        NaN         NaN          NaN   \n",
       "\n",
       "  Airport.Name  ... Purpose.of.flight Air.carrier Total.Fatal.Injuries  \\\n",
       "0          NaN  ...          Personal         NaN                  2.0   \n",
       "1          NaN  ...          Personal         NaN                  4.0   \n",
       "2          NaN  ...          Personal         NaN                  3.0   \n",
       "3          NaN  ...          Personal         NaN                  2.0   \n",
       "4          NaN  ...          Personal         NaN                  1.0   \n",
       "\n",
       "  Total.Serious.Injuries Total.Minor.Injuries Total.Uninjured  \\\n",
       "0                    0.0                  0.0             0.0   \n",
       "1                    0.0                  0.0             0.0   \n",
       "2                    NaN                  NaN             NaN   \n",
       "3                    0.0                  0.0             0.0   \n",
       "4                    2.0                  NaN             0.0   \n",
       "\n",
       "  Weather.Condition  Broad.phase.of.flight   Report.Status Publication.Date  \n",
       "0               UNK                 Cruise  Probable Cause              NaN  \n",
       "1               UNK                Unknown  Probable Cause       19-09-1996  \n",
       "2               IMC                 Cruise  Probable Cause       26-02-2007  \n",
       "3               IMC                 Cruise  Probable Cause       12-09-2000  \n",
       "4               VMC               Approach  Probable Cause       16-04-1980  \n",
       "\n",
       "[5 rows x 31 columns]"
      ]
     },
     "execution_count": 3,
     "metadata": {},
     "output_type": "execute_result"
    }
   ],
   "source": [
    "df.head()\n",
    "#Taking an initial look at the dataset"
   ]
  },
  {
   "cell_type": "code",
   "execution_count": 4,
   "metadata": {},
   "outputs": [
    {
     "name": "stdout",
     "output_type": "stream",
     "text": [
      "<class 'pandas.core.frame.DataFrame'>\n",
      "RangeIndex: 88889 entries, 0 to 88888\n",
      "Data columns (total 31 columns):\n",
      " #   Column                  Non-Null Count  Dtype  \n",
      "---  ------                  --------------  -----  \n",
      " 0   Event.Id                88889 non-null  object \n",
      " 1   Investigation.Type      88889 non-null  object \n",
      " 2   Accident.Number         88889 non-null  object \n",
      " 3   Event.Date              88889 non-null  object \n",
      " 4   Location                88837 non-null  object \n",
      " 5   Country                 88663 non-null  object \n",
      " 6   Latitude                34382 non-null  object \n",
      " 7   Longitude               34373 non-null  object \n",
      " 8   Airport.Code            50132 non-null  object \n",
      " 9   Airport.Name            52704 non-null  object \n",
      " 10  Injury.Severity         87889 non-null  object \n",
      " 11  Aircraft.damage         85695 non-null  object \n",
      " 12  Aircraft.Category       32287 non-null  object \n",
      " 13  Registration.Number     87507 non-null  object \n",
      " 14  Make                    88826 non-null  object \n",
      " 15  Model                   88797 non-null  object \n",
      " 16  Amateur.Built           88787 non-null  object \n",
      " 17  Number.of.Engines       82805 non-null  float64\n",
      " 18  Engine.Type             81793 non-null  object \n",
      " 19  FAR.Description         32023 non-null  object \n",
      " 20  Schedule                12582 non-null  object \n",
      " 21  Purpose.of.flight       82697 non-null  object \n",
      " 22  Air.carrier             16648 non-null  object \n",
      " 23  Total.Fatal.Injuries    77488 non-null  float64\n",
      " 24  Total.Serious.Injuries  76379 non-null  float64\n",
      " 25  Total.Minor.Injuries    76956 non-null  float64\n",
      " 26  Total.Uninjured         82977 non-null  float64\n",
      " 27  Weather.Condition       84397 non-null  object \n",
      " 28  Broad.phase.of.flight   61724 non-null  object \n",
      " 29  Report.Status           82505 non-null  object \n",
      " 30  Publication.Date        75118 non-null  object \n",
      "dtypes: float64(5), object(26)\n",
      "memory usage: 21.0+ MB\n"
     ]
    }
   ],
   "source": [
    "df.info()"
   ]
  },
  {
   "cell_type": "code",
   "execution_count": 5,
   "metadata": {},
   "outputs": [
    {
     "data": {
      "text/plain": [
       "Event.Id                      0\n",
       "Investigation.Type            0\n",
       "Accident.Number               0\n",
       "Event.Date                    0\n",
       "Location                     52\n",
       "Country                     226\n",
       "Latitude                  54507\n",
       "Longitude                 54516\n",
       "Airport.Code              38757\n",
       "Airport.Name              36185\n",
       "Injury.Severity            1000\n",
       "Aircraft.damage            3194\n",
       "Aircraft.Category         56602\n",
       "Registration.Number        1382\n",
       "Make                         63\n",
       "Model                        92\n",
       "Amateur.Built               102\n",
       "Number.of.Engines          6084\n",
       "Engine.Type                7096\n",
       "FAR.Description           56866\n",
       "Schedule                  76307\n",
       "Purpose.of.flight          6192\n",
       "Air.carrier               72241\n",
       "Total.Fatal.Injuries      11401\n",
       "Total.Serious.Injuries    12510\n",
       "Total.Minor.Injuries      11933\n",
       "Total.Uninjured            5912\n",
       "Weather.Condition          4492\n",
       "Broad.phase.of.flight     27165\n",
       "Report.Status              6384\n",
       "Publication.Date          13771\n",
       "dtype: int64"
      ]
     },
     "execution_count": 5,
     "metadata": {},
     "output_type": "execute_result"
    }
   ],
   "source": [
    "df.isna().sum()"
   ]
  },
  {
   "cell_type": "markdown",
   "metadata": {},
   "source": [
    "\n",
    "Clearly, with 88,889 rows, 31 columns, and a considerable amount of missing data, there is a lot of cleaning and investigation to do.\n",
    "\n",
    "Upon this initial examination, it's clear that 'Total.Fatal.Injuries,' 'Total.Serious.Injuries,' 'Total.Minor.Injuries,' 'Total.Uninjured,' and 'Aircraft.damage' will all contain crucial data for assessing aircraft safety.\n",
    "\n",
    "However, it is also clear that there is a significant amount of irrelevant and incomplete data. Some of this can be eliminated before proceeding with meticulous cleaning and analysis.\n",
    "\n",
    "# 2 Exploring data to find irrelevant and incomplete columns"
   ]
  },
  {
   "cell_type": "code",
   "execution_count": 6,
   "metadata": {},
   "outputs": [
    {
     "data": {
      "text/plain": [
       "0    20001218X45444\n",
       "1    20001218X45447\n",
       "2    20061025X01555\n",
       "3    20001218X45448\n",
       "4    20041105X01764\n",
       "5    20170710X52551\n",
       "6    20001218X45446\n",
       "7    20020909X01562\n",
       "8    20020909X01561\n",
       "9    20020909X01560\n",
       "Name: Event.Id, dtype: object"
      ]
     },
     "execution_count": 6,
     "metadata": {},
     "output_type": "execute_result"
    }
   ],
   "source": [
    "df['Event.Id'].head(10)"
   ]
  },
  {
   "cell_type": "markdown",
   "metadata": {},
   "source": [
    "This column appears to represent a unique numeric identifier for each accident or incident. Since it doesn't contribute to the ultimate goal of finding safe airplane recommendations for the business, we'll include it in the list of columns to be eliminated."
   ]
  },
  {
   "cell_type": "code",
   "execution_count": 7,
   "metadata": {},
   "outputs": [
    {
     "data": {
      "text/plain": [
       "Air.carrier\n",
       "Pilot                        258\n",
       "American Airlines             90\n",
       "United Airlines               89\n",
       "Delta Air Lines               53\n",
       "SOUTHWEST AIRLINES CO         42\n",
       "                            ... \n",
       "WOODY CONTRACTING INC          1\n",
       "Rod Aviation LLC               1\n",
       "Paul D Franzon                 1\n",
       "TRAINING SERVICES INC DBA      1\n",
       "MC CESSNA 210N LLC             1\n",
       "Name: count, Length: 13590, dtype: int64"
      ]
     },
     "execution_count": 7,
     "metadata": {},
     "output_type": "execute_result"
    }
   ],
   "source": [
    "df['Air.carrier'].value_counts() "
   ]
  },
  {
   "cell_type": "markdown",
   "metadata": {},
   "source": [
    "White Lotus will hire its own pilots, eliminating the need for an air carrier. Upon closer inspection of this column, it appears that there is no additional useful information to be extracted. Therefore, we'll include it in the list of columns to be eliminated."
   ]
  },
  {
   "cell_type": "code",
   "execution_count": 8,
   "metadata": {},
   "outputs": [
    {
     "data": {
      "text/plain": [
       "Airport.Code\n",
       "NONE    1488\n",
       "PVT      485\n",
       "APA      160\n",
       "ORD      149\n",
       "MRI      137\n",
       "        ... \n",
       "7NJ9       1\n",
       "CWV        1\n",
       "5QA        1\n",
       "M55        1\n",
       "EIKH       1\n",
       "Name: count, Length: 10374, dtype: int64"
      ]
     },
     "execution_count": 8,
     "metadata": {},
     "output_type": "execute_result"
    }
   ],
   "source": [
    "df['Airport.Code'].value_counts()"
   ]
  },
  {
   "cell_type": "code",
   "execution_count": 9,
   "metadata": {},
   "outputs": [
    {
     "data": {
      "text/plain": [
       "Airport.Code\n",
       "NONE    1488\n",
       "PVT      485\n",
       "APA      160\n",
       "ORD      149\n",
       "MRI      137\n",
       "        ... \n",
       "7NJ9       1\n",
       "CWV        1\n",
       "5QA        1\n",
       "M55        1\n",
       "EIKH       1\n",
       "Name: count, Length: 10374, dtype: int64"
      ]
     },
     "execution_count": 9,
     "metadata": {},
     "output_type": "execute_result"
    }
   ],
   "source": [
    "df['Airport.Code'].value_counts()"
   ]
  },
  {
   "cell_type": "markdown",
   "metadata": {},
   "source": [
    "Both 'Airport.Code' and 'Airport.Name' show a significant amount of missing data, as we saw earlier.\n",
    "\n",
    "Upon closer examination, it becomes apparent that the most common value in 'Airport.Code' is 'NONE,' indicating a more missing data than we initially could see.\n",
    "\n",
    "Further examination of 'Airport.Name' values shows us that, although the data is messy, many airports associated with these events are private.\n",
    "\n",
    "However, this information is irrelevant to our project, as White Lotus operates its own private airports exclusively for guests. Therefore, we can disregard the data in both of these columns."
   ]
  },
  {
   "cell_type": "code",
   "execution_count": 10,
   "metadata": {},
   "outputs": [
    {
     "data": {
      "text/plain": [
       "28079           NaN\n",
       "41101           NaN\n",
       "15366           NaN\n",
       "11803           NaN\n",
       "26919           NaN\n",
       "14527           NaN\n",
       "13572           NaN\n",
       "24970           NaN\n",
       "88299           NaN\n",
       "56253           NaN\n",
       "77632      1512436W\n",
       "59591    -87.896389\n",
       "67387      1021528W\n",
       "43451           NaN\n",
       "18753           NaN\n",
       "Name: Longitude, dtype: object"
      ]
     },
     "execution_count": 10,
     "metadata": {},
     "output_type": "execute_result"
    }
   ],
   "source": [
    "df['Longitude'].sample(n=15)\n",
    "#Looking at a random sample of 15 values from the 'Longitude' column to get a feel for it's contents"
   ]
  },
  {
   "cell_type": "code",
   "execution_count": 11,
   "metadata": {},
   "outputs": [
    {
     "data": {
      "text/plain": [
       "87545      045540N\n",
       "24334          NaN\n",
       "56205    43.823611\n",
       "65176      039402N\n",
       "18191          NaN\n",
       "14247          NaN\n",
       "41129          NaN\n",
       "2495           NaN\n",
       "70679      003230N\n",
       "69752      331733N\n",
       "1242           NaN\n",
       "38085          NaN\n",
       "14524          NaN\n",
       "44033          NaN\n",
       "14843          NaN\n",
       "Name: Latitude, dtype: object"
      ]
     },
     "execution_count": 11,
     "metadata": {},
     "output_type": "execute_result"
    }
   ],
   "source": [
    "df['Latitude'].sample(n=15)\n",
    "#Looking at a random sample of 15 values from the 'Latitude' column to get a feel for it's contents"
   ]
  },
  {
   "cell_type": "markdown",
   "metadata": {},
   "source": [
    "We had already identified from our initial inspection that 'Longitude' and 'Latitude' contained substantial amounts of missing data. Examining a few sample values underscores the prevalence of NaNs in these columns. Given the extensive missing data and the realization that these columns won't contribute to determining the safety of aircraft, we will eliminate them."
   ]
  },
  {
   "cell_type": "code",
   "execution_count": 12,
   "metadata": {},
   "outputs": [
    {
     "data": {
      "text/plain": [
       "Schedule\n",
       "NSCH    4474\n",
       "UNK     4099\n",
       "SCHD    4009\n",
       "Name: count, dtype: int64"
      ]
     },
     "execution_count": 12,
     "metadata": {},
     "output_type": "execute_result"
    }
   ],
   "source": [
    "df['Schedule'].value_counts()"
   ]
  },
  {
   "cell_type": "code",
   "execution_count": 13,
   "metadata": {},
   "outputs": [
    {
     "data": {
      "text/plain": [
       "Purpose.of.flight\n",
       "Personal                     49448\n",
       "Instructional                10601\n",
       "Unknown                       6802\n",
       "Aerial Application            4712\n",
       "Business                      4018\n",
       "Positioning                   1646\n",
       "Other Work Use                1264\n",
       "Ferry                          812\n",
       "Aerial Observation             794\n",
       "Public Aircraft                720\n",
       "Executive/corporate            553\n",
       "Flight Test                    405\n",
       "Skydiving                      182\n",
       "External Load                  123\n",
       "Public Aircraft - Federal      105\n",
       "Banner Tow                     101\n",
       "Air Race show                   99\n",
       "Public Aircraft - Local         74\n",
       "Public Aircraft - State         64\n",
       "Air Race/show                   59\n",
       "Glider Tow                      53\n",
       "Firefighting                    40\n",
       "Air Drop                        11\n",
       "ASHO                             6\n",
       "PUBS                             4\n",
       "PUBL                             1\n",
       "Name: count, dtype: int64"
      ]
     },
     "execution_count": 13,
     "metadata": {},
     "output_type": "execute_result"
    }
   ],
   "source": [
    "df['Purpose.of.flight'].value_counts()"
   ]
  },
  {
   "cell_type": "markdown",
   "metadata": {},
   "source": [
    "After reviewing a summary of the contents in 'Schedule' and 'Purpose.of.flight,' it's clear that these columns will not contribute to determining aircraft safety. Therefore, we will eliminate them."
   ]
  },
  {
   "cell_type": "code",
   "execution_count": 14,
   "metadata": {},
   "outputs": [
    {
     "data": {
      "text/plain": [
       "Injury.Severity\n",
       "Non-Fatal     67357\n",
       "Fatal(1)       6167\n",
       "Fatal          5262\n",
       "Fatal(2)       3711\n",
       "Incident       2219\n",
       "              ...  \n",
       "Fatal(270)        1\n",
       "Fatal(60)         1\n",
       "Fatal(43)         1\n",
       "Fatal(143)        1\n",
       "Fatal(230)        1\n",
       "Name: count, Length: 109, dtype: int64"
      ]
     },
     "execution_count": 14,
     "metadata": {},
     "output_type": "execute_result"
    }
   ],
   "source": [
    "df['Injury.Severity'].value_counts()"
   ]
  },
  {
   "cell_type": "code",
   "execution_count": 15,
   "metadata": {},
   "outputs": [
    {
     "data": {
      "text/plain": [
       "48853    Non-Fatal\n",
       "133       Fatal(3)\n",
       "23560     Fatal(2)\n",
       "53643    Non-Fatal\n",
       "20520     Fatal(1)\n",
       "52269    Non-Fatal\n",
       "27696     Fatal(1)\n",
       "85622    Non-Fatal\n",
       "58004     Incident\n",
       "11418    Non-Fatal\n",
       "Name: Injury.Severity, dtype: object"
      ]
     },
     "execution_count": 15,
     "metadata": {},
     "output_type": "execute_result"
    }
   ],
   "source": [
    "df['Injury.Severity'].sample(10)"
   ]
  },
  {
   "cell_type": "markdown",
   "metadata": {},
   "source": [
    "The data in 'Injury.Severity' is messy, but seems to distinguish between an injury being 'Fatal', 'Non-Fatal', and 'Incident'. However, upon closer inspection, we see that all this information is duplicated in other columns such as 'Investigation.Type,' 'Total.Fatal.Injuries,' 'Total.Serious.Injuries,' 'Total.Minor.Injuries,' and 'Total.Uninjured.' As 'Injury.Severity' only contains redundant information, we will eliminate this column.\n",
    "\n",
    "#### To make our data easier to clean and further filter, we'll remove all of the columns discussed so far."
   ]
  },
  {
   "cell_type": "code",
   "execution_count": 16,
   "metadata": {},
   "outputs": [],
   "source": [
    "df.drop(['Event.Id', 'Air.carrier', 'Latitude', 'Longitude', 'Airport.Code', 'Injury.Severity', 'Schedule', 'Purpose.of.flight', 'Airport.Name'], axis=1, inplace = True)\n",
    "#Remove columns: Event.Id, Air.carrier, Latitude, Longitude, Airport.Code, Injury.Severity, Schedule, Purpose.of.flight, Airport.Name"
   ]
  },
  {
   "cell_type": "code",
   "execution_count": 17,
   "metadata": {},
   "outputs": [
    {
     "name": "stdout",
     "output_type": "stream",
     "text": [
      "<class 'pandas.core.frame.DataFrame'>\n",
      "RangeIndex: 88889 entries, 0 to 88888\n",
      "Data columns (total 22 columns):\n",
      " #   Column                  Non-Null Count  Dtype  \n",
      "---  ------                  --------------  -----  \n",
      " 0   Investigation.Type      88889 non-null  object \n",
      " 1   Accident.Number         88889 non-null  object \n",
      " 2   Event.Date              88889 non-null  object \n",
      " 3   Location                88837 non-null  object \n",
      " 4   Country                 88663 non-null  object \n",
      " 5   Aircraft.damage         85695 non-null  object \n",
      " 6   Aircraft.Category       32287 non-null  object \n",
      " 7   Registration.Number     87507 non-null  object \n",
      " 8   Make                    88826 non-null  object \n",
      " 9   Model                   88797 non-null  object \n",
      " 10  Amateur.Built           88787 non-null  object \n",
      " 11  Number.of.Engines       82805 non-null  float64\n",
      " 12  Engine.Type             81793 non-null  object \n",
      " 13  FAR.Description         32023 non-null  object \n",
      " 14  Total.Fatal.Injuries    77488 non-null  float64\n",
      " 15  Total.Serious.Injuries  76379 non-null  float64\n",
      " 16  Total.Minor.Injuries    76956 non-null  float64\n",
      " 17  Total.Uninjured         82977 non-null  float64\n",
      " 18  Weather.Condition       84397 non-null  object \n",
      " 19  Broad.phase.of.flight   61724 non-null  object \n",
      " 20  Report.Status           82505 non-null  object \n",
      " 21  Publication.Date        75118 non-null  object \n",
      "dtypes: float64(5), object(17)\n",
      "memory usage: 14.9+ MB\n"
     ]
    }
   ],
   "source": [
    "df.info()"
   ]
  },
  {
   "cell_type": "markdown",
   "metadata": {},
   "source": [
    "Narrowing down from 31 columns to 22 is beginning to feel more manageable.\n",
    "\n",
    "# 3 Next, we'll examine the values of additional columns to identify rows for elimination."
   ]
  },
  {
   "cell_type": "code",
   "execution_count": 18,
   "metadata": {},
   "outputs": [
    {
     "data": {
      "text/plain": [
       "Amateur.Built\n",
       "No     80312\n",
       "Yes     8475\n",
       "Name: count, dtype: int64"
      ]
     },
     "execution_count": 18,
     "metadata": {},
     "output_type": "execute_result"
    }
   ],
   "source": [
    "df['Amateur.Built'].value_counts()"
   ]
  },
  {
   "cell_type": "markdown",
   "metadata": {},
   "source": [
    "We do not intend to recommend any amateur-built aircraft to White Lotus. We will eliminate all rows that indicate 'Yes' in the 'Amateur.Built' column. Then, since we will no longer need this column, we will proceed to delete it."
   ]
  },
  {
   "cell_type": "code",
   "execution_count": 19,
   "metadata": {
    "scrolled": true
   },
   "outputs": [],
   "source": [
    "amateur_built = df['Amateur.Built'] == 'Yes'\n",
    "df = df[~amateur_built]\n",
    "#Remove amateur-built aircrafts"
   ]
  },
  {
   "cell_type": "code",
   "execution_count": 20,
   "metadata": {},
   "outputs": [],
   "source": [
    "df = df.drop(columns = 'Amateur.Built')\n",
    "#Remove Amateur.Built column"
   ]
  },
  {
   "cell_type": "code",
   "execution_count": 21,
   "metadata": {},
   "outputs": [
    {
     "data": {
      "text/plain": [
       "Aircraft.Category\n",
       "Airplane             24434\n",
       "Helicopter            3297\n",
       "Glider                 476\n",
       "Balloon                229\n",
       "Weight-Shift           139\n",
       "Powered Parachute       83\n",
       "Gyrocraft               32\n",
       "Ultralight              18\n",
       "Unknown                 11\n",
       "WSFT                     9\n",
       "Powered-Lift             5\n",
       "Blimp                    4\n",
       "UNK                      2\n",
       "Rocket                   1\n",
       "Name: count, dtype: int64"
      ]
     },
     "execution_count": 21,
     "metadata": {},
     "output_type": "execute_result"
    }
   ],
   "source": [
    "df['Aircraft.Category'].value_counts()"
   ]
  },
  {
   "cell_type": "markdown",
   "metadata": {},
   "source": [
    "White Lotus is only interested in airplanes. All the rows with other aircrafts in the 'Aircraft.Category' can be removed."
   ]
  },
  {
   "cell_type": "code",
   "execution_count": 22,
   "metadata": {},
   "outputs": [],
   "source": [
    "df = df[df['Aircraft.Category'] == 'Airplane']\n",
    "#Remove all aircrafts that are not airplanes"
   ]
  },
  {
   "cell_type": "markdown",
   "metadata": {},
   "source": [
    "Additionally, our focus is solely on data where we have information about the 'Make' and 'Model' of the airplane. Any NaNs in these columns render the associated row irrelevant; hence, we will remove them."
   ]
  },
  {
   "cell_type": "code",
   "execution_count": 23,
   "metadata": {},
   "outputs": [],
   "source": [
    "df.dropna(subset = ['Make', 'Model'], inplace = True)\n",
    "#Remove data with no information on Make and Model"
   ]
  },
  {
   "cell_type": "code",
   "execution_count": 24,
   "metadata": {},
   "outputs": [
    {
     "data": {
      "text/plain": [
       "Country\n",
       "United States               21119\n",
       "Brazil                        239\n",
       "United Kingdom                207\n",
       "Mexico                        202\n",
       "Canada                        169\n",
       "                            ...  \n",
       "Cayenne                         1\n",
       "Solomon Islands                 1\n",
       "Yemen                           1\n",
       "Singapore                       1\n",
       "Turks and Caicos Islands        1\n",
       "Name: count, Length: 165, dtype: int64"
      ]
     },
     "execution_count": 24,
     "metadata": {},
     "output_type": "execute_result"
    }
   ],
   "source": [
    "df['Country'].value_counts()"
   ]
  },
  {
   "cell_type": "code",
   "execution_count": 25,
   "metadata": {},
   "outputs": [
    {
     "data": {
      "text/plain": [
       "5        United States\n",
       "7        United States\n",
       "8        United States\n",
       "12       United States\n",
       "13       United States\n",
       "             ...      \n",
       "88869    United States\n",
       "88873    United States\n",
       "88876    United States\n",
       "88877    United States\n",
       "88886    United States\n",
       "Name: Country, Length: 24415, dtype: object"
      ]
     },
     "execution_count": 25,
     "metadata": {},
     "output_type": "execute_result"
    }
   ],
   "source": [
    "df['Country']"
   ]
  },
  {
   "cell_type": "code",
   "execution_count": 26,
   "metadata": {},
   "outputs": [
    {
     "data": {
      "text/plain": [
       "Country\n",
       "United States               0.865001\n",
       "Brazil                      0.009789\n",
       "United Kingdom              0.008478\n",
       "Mexico                      0.008274\n",
       "Canada                      0.006922\n",
       "                              ...   \n",
       "Cayenne                     0.000041\n",
       "Solomon Islands             0.000041\n",
       "Yemen                       0.000041\n",
       "Singapore                   0.000041\n",
       "Turks and Caicos Islands    0.000041\n",
       "Name: count, Length: 165, dtype: float64"
      ]
     },
     "execution_count": 26,
     "metadata": {},
     "output_type": "execute_result"
    }
   ],
   "source": [
    "df['Country'].value_counts() / len(df['Country'])"
   ]
  },
  {
   "cell_type": "markdown",
   "metadata": {},
   "source": [
    "Over 86% of of the data is from the United States. Since White Lotus' flights for will only take place within the United States, we'll remove all rows with other values."
   ]
  },
  {
   "cell_type": "code",
   "execution_count": 27,
   "metadata": {},
   "outputs": [],
   "source": [
    "df['Country'] = df['Country'].str.upper()"
   ]
  },
  {
   "cell_type": "code",
   "execution_count": 28,
   "metadata": {},
   "outputs": [],
   "source": [
    "df = df[df['Country'] == 'UNITED STATES']\n",
    "#Remove data outside of the United States"
   ]
  },
  {
   "cell_type": "code",
   "execution_count": 29,
   "metadata": {},
   "outputs": [],
   "source": [
    "df['Event.Date'] = pd.to_datetime(df['Event.Date'], yearfirst=True)\n",
    "#Convert Event Date column to DateTime"
   ]
  },
  {
   "cell_type": "code",
   "execution_count": 30,
   "metadata": {},
   "outputs": [],
   "source": [
    "df = df.loc[df['Event.Date'] >= '1993-01-01']\n",
    "#Remove data prior to 1993"
   ]
  },
  {
   "cell_type": "markdown",
   "metadata": {},
   "source": [
    "On the [datasource website](https://www.kaggle.com/datasets/khsamaha/aviation-accident-database-synopses/data), it's stated under the acknowledgements that \"Full narrative descriptions may not be available for dates before 1993\" due to incomplete record keeping before it was the responsibility of National Transportation Safety Board. In order to work the most complete data, we decided to eliminate all rows with 'Event.Date's before 1993.  To do this, we had to change the 'Event.Date' column to DateTime and then filter based on date."
   ]
  },
  {
   "cell_type": "markdown",
   "metadata": {},
   "source": [
    "# 4. Final Cleaning\n",
    "\n",
    "Based on the analysis conducted so far, it's evident that data cleaning is required. The column headers, 'Make,' and 'Model' exhibit inconsistent formatting. We'll look at this and we'll fix this with the following code. "
   ]
  },
  {
   "cell_type": "code",
   "execution_count": 31,
   "metadata": {},
   "outputs": [],
   "source": [
    "currentheaders = list(df.columns.values)\n",
    "df.columns = [c.replace('.', ' ').title() for c in currentheaders]\n",
    "#Clean header titles"
   ]
  },
  {
   "cell_type": "code",
   "execution_count": 32,
   "metadata": {},
   "outputs": [
    {
     "data": {
      "text/plain": [
       "68359         PILATUS\n",
       "84154    Cub Crafters\n",
       "81696          CESSNA\n",
       "72701          CESSNA\n",
       "76082           PIPER\n",
       "65248     AIR TRACTOR\n",
       "61068          Cessna\n",
       "74798          CESSNA\n",
       "78008           PIPER\n",
       "78502           PIPER\n",
       "84516           Beech\n",
       "79618          CESSNA\n",
       "59023          Mooney\n",
       "63430           Temco\n",
       "75982          CESSNA\n",
       "Name: Make, dtype: object"
      ]
     },
     "execution_count": 32,
     "metadata": {},
     "output_type": "execute_result"
    }
   ],
   "source": [
    "df['Make'].sample(15)\n",
    "#Different spacing and characters need to be cleaned."
   ]
  },
  {
   "cell_type": "code",
   "execution_count": 33,
   "metadata": {},
   "outputs": [
    {
     "data": {
      "text/plain": [
       "78862          182\n",
       "83865         PA18\n",
       "65669          V35\n",
       "86144         A240\n",
       "74963         SR20\n",
       "79299          690\n",
       "82214          150\n",
       "71164          152\n",
       "78120          162\n",
       "87162      DRIFTER\n",
       "69664          200\n",
       "74717    PA 28-181\n",
       "84257           36\n",
       "80513    PA 28-161\n",
       "61868      737-7H4\n",
       "Name: Model, dtype: object"
      ]
     },
     "execution_count": 33,
     "metadata": {},
     "output_type": "execute_result"
    }
   ],
   "source": [
    "df['Model'].sample(15)\n",
    "#Different spacing and characters need to be cleaned."
   ]
  },
  {
   "cell_type": "code",
   "execution_count": 34,
   "metadata": {},
   "outputs": [],
   "source": [
    "df['Make'] = df['Make'].str.upper()\n",
    "df['Model'] = df['Model'].str.upper()\n",
    "\n",
    "df['Make'] = df['Make'].str.replace('-', '')\n",
    "df['Make'] = df['Make'].str.replace('(', '')\n",
    "df['Make'] = df['Make'].str.replace(')', '')\n",
    "df['Model'] = df['Model'].str.replace('-', '')\n",
    "df['Model'] = df['Model'].str.replace('(', '')\n",
    "df['Model'] = df['Model'].str.replace(')', '')\n",
    "\n",
    "#Clean strings in Make and Model columns by replacing special characters with '' and changing the case to all upper"
   ]
  },
  {
   "cell_type": "markdown",
   "metadata": {},
   "source": [
    "In the next steps we'll look closer at some remaining columns to analyze the data for elimination and cleaning."
   ]
  },
  {
   "cell_type": "code",
   "execution_count": 35,
   "metadata": {},
   "outputs": [
    {
     "data": {
      "text/plain": [
       "Weather Condition\n",
       "VMC    16592\n",
       "IMC      947\n",
       "Unk      107\n",
       "UNK        2\n",
       "Name: count, dtype: int64"
      ]
     },
     "execution_count": 35,
     "metadata": {},
     "output_type": "execute_result"
    }
   ],
   "source": [
    "df['Weather Condition'].value_counts()"
   ]
  },
  {
   "cell_type": "code",
   "execution_count": 36,
   "metadata": {},
   "outputs": [
    {
     "data": {
      "text/plain": [
       "Broad Phase Of Flight\n",
       "Landing        1246\n",
       "Takeoff         485\n",
       "Cruise          251\n",
       "Approach        224\n",
       "Maneuvering     153\n",
       "Taxi            106\n",
       "Go-around        89\n",
       "Descent          64\n",
       "Climb            53\n",
       "Standing         44\n",
       "Unknown          12\n",
       "Other             2\n",
       "Name: count, dtype: int64"
      ]
     },
     "execution_count": 36,
     "metadata": {},
     "output_type": "execute_result"
    }
   ],
   "source": [
    "df['Broad Phase Of Flight'].value_counts()"
   ]
  },
  {
   "cell_type": "code",
   "execution_count": 37,
   "metadata": {},
   "outputs": [
    {
     "data": {
      "text/plain": [
       "32592    17-08-2012\n",
       "33535    17-10-2016\n",
       "33711    17-10-2016\n",
       "33880    28-12-2010\n",
       "34210    01-02-2016\n",
       "Name: Publication Date, dtype: object"
      ]
     },
     "execution_count": 37,
     "metadata": {},
     "output_type": "execute_result"
    }
   ],
   "source": [
    "df['Publication Date'].head()"
   ]
  },
  {
   "cell_type": "code",
   "execution_count": 38,
   "metadata": {},
   "outputs": [
    {
     "data": {
      "text/plain": [
       "Investigation Type\n",
       "Accident    17642\n",
       "Incident      434\n",
       "Name: count, dtype: int64"
      ]
     },
     "execution_count": 38,
     "metadata": {},
     "output_type": "execute_result"
    }
   ],
   "source": [
    "df['Investigation Type'].value_counts()"
   ]
  },
  {
   "cell_type": "code",
   "execution_count": 39,
   "metadata": {},
   "outputs": [
    {
     "data": {
      "text/plain": [
       "Registration Number\n",
       "UNREG     13\n",
       "N8402K     5\n",
       "N5408Y     4\n",
       "N99HV      4\n",
       "N323KT     4\n",
       "          ..\n",
       "N55464     1\n",
       "N80GB      1\n",
       "N938SW     1\n",
       "N1TR       1\n",
       "N749PJ     1\n",
       "Name: count, Length: 17399, dtype: int64"
      ]
     },
     "execution_count": 39,
     "metadata": {},
     "output_type": "execute_result"
    }
   ],
   "source": [
    "df['Registration Number'].value_counts()"
   ]
  },
  {
   "cell_type": "markdown",
   "metadata": {},
   "source": [
    "The columns 'Broad Phase Of Flight,' 'Registration Number,' 'Weather Condition,' and 'Publication Date' contain irrelevant data concerning the purchase of a safe airplane. Although weather and visibility undoubtedly influence safety, these variables won't impact the type of plane we recommend.\n",
    "\n",
    "We researched the difference between ['Incident' and 'Accident'](https://www.aviation.govt.nz/safety/safety-reporting/what-is-an-accident-or-incident/#:~:text=The%20word%20'occurrence'%20is%20used,mean%20any%20accident%20or%20incident.&text=the%20aircraft%20is%20missing%20or,affect%2C%20the%20safety%20of%20operation.) values in the 'Investigation Type' column. An 'Incident' is defined as 'any occurrence, other than an accident, associated with the operation of an aircraft and affects, or could affect, the safety of operation.' An accident is defined as 'an occurrence associated with the operation of an aircraft' that results in injury or fatality.\n",
    "\n",
    "Based on these definitions, we are interested in both 'Investigation Types.' We'll keep this column.\n",
    "\n",
    "Consequently, we will eliminate all the discussed columns, along with 'Country' and 'Aircraft Category,' which have become irrelevant after cleaning up the rows."
   ]
  },
  {
   "cell_type": "code",
   "execution_count": 40,
   "metadata": {},
   "outputs": [],
   "source": [
    "df.drop(['Country', 'Aircraft Category', 'Registration Number', 'Broad Phase Of Flight', 'Weather Condition', 'Publication Date'], axis=1, inplace = True)\n",
    "#Remove Country, Aircraft Category, Broad Phase of Flight, Weather Condition, and Publication Date columns"
   ]
  },
  {
   "cell_type": "code",
   "execution_count": 41,
   "metadata": {},
   "outputs": [
    {
     "name": "stdout",
     "output_type": "stream",
     "text": [
      "<class 'pandas.core.frame.DataFrame'>\n",
      "Index: 18076 entries, 32592 to 88886\n",
      "Data columns (total 15 columns):\n",
      " #   Column                  Non-Null Count  Dtype         \n",
      "---  ------                  --------------  -----         \n",
      " 0   Investigation Type      18076 non-null  object        \n",
      " 1   Accident Number         18076 non-null  object        \n",
      " 2   Event Date              18076 non-null  datetime64[ns]\n",
      " 3   Location                18076 non-null  object        \n",
      " 4   Aircraft Damage         17645 non-null  object        \n",
      " 5   Make                    18076 non-null  object        \n",
      " 6   Model                   18076 non-null  object        \n",
      " 7   Number Of Engines       17592 non-null  float64       \n",
      " 8   Engine Type             16427 non-null  object        \n",
      " 9   Far Description         18074 non-null  object        \n",
      " 10  Total Fatal Injuries    15552 non-null  float64       \n",
      " 11  Total Serious Injuries  15575 non-null  float64       \n",
      " 12  Total Minor Injuries    15856 non-null  float64       \n",
      " 13  Total Uninjured         17568 non-null  float64       \n",
      " 14  Report Status           16152 non-null  object        \n",
      "dtypes: datetime64[ns](1), float64(5), object(9)\n",
      "memory usage: 2.2+ MB\n"
     ]
    }
   ],
   "source": [
    "df.info()"
   ]
  },
  {
   "cell_type": "markdown",
   "metadata": {},
   "source": [
    "Things are looking much cleaner and more consise. For our final cleaning before we start analyzing the pertinent data, we'll check out the rest of the columns that aren't obvious if they are helpful or not."
   ]
  },
  {
   "cell_type": "code",
   "execution_count": 42,
   "metadata": {},
   "outputs": [
    {
     "data": {
      "text/plain": [
       "Report Status\n",
       "Probable Cause                                                                                                                                                                                                                                                                                                                             2729\n",
       "The pilot's failure to maintain directional control during the landing roll.                                                                                                                                                                                                                                                                 50\n",
       "A loss of engine power for undetermined reasons.                                                                                                                                                                                                                                                                                             44\n",
       "The pilot's failure to maintain directional control during landing.                                                                                                                                                                                                                                                                          35\n",
       "A total loss of engine power for undetermined reasons.                                                                                                                                                                                                                                                                                       31\n",
       "                                                                                                                                                                                                                                                                                                                                           ... \n",
       "The pilot's decision to land on a runway with a gusting, quartering tailwind and his inadequate compensation for the wind, which resulted in a hard landing.                                                                                                                                                                                  1\n",
       "\\r\\nThe pilot did not ensure that there was sufficient fuel aboard the airplane before initiating the flight, which resulted in temporary fuel starvation and an interruption in engine power during maneuvering.  Contributing to the accident was the pilotís decision to continue with the ditching after engine power was restored.       1\n",
       "The pilot's inadequate preflight inspection of the airplane and the subsequent total loss of engine power as a result of debris and water contamination in the fuel system.                                                                                                                                                                   1\n",
       "The pilotís inadvertent positioning of the fuel selector valve between the right tank and OFF position, which resulted in fuel starvation and a total loss of engine power. Contributing to the accident was the inadequate inspection of the fuel valve and failure to replace the worn fuel valve's position washer.                        1\n",
       "The pilotís loss of control due to a wind gust during landing.                                                                                                                                                                                                                                                                                1\n",
       "Name: count, Length: 12409, dtype: int64"
      ]
     },
     "execution_count": 42,
     "metadata": {},
     "output_type": "execute_result"
    }
   ],
   "source": [
    "df['Report Status'].value_counts()"
   ]
  },
  {
   "cell_type": "code",
   "execution_count": 43,
   "metadata": {},
   "outputs": [
    {
     "data": {
      "text/plain": [
       "Far Description\n",
       "091                              13336\n",
       "Part 91: General Aviation         2430\n",
       "137                                739\n",
       "135                                527\n",
       "121                                523\n",
       "Part 137: Agricultural             148\n",
       "PUBU                               124\n",
       "Part 135: Air Taxi & Commuter       68\n",
       "Part 121: Air Carrier               62\n",
       "129                                 45\n",
       "091K                                14\n",
       "NUSC                                12\n",
       "NUSN                                10\n",
       "Public Use                           9\n",
       "Part 129: Foreign                    8\n",
       "UNK                                  7\n",
       "Unknown                              4\n",
       "125                                  4\n",
       "ARMF                                 2\n",
       "Part 125: 20+ Pax,6000+ lbs          1\n",
       "Part 91 Subpart K: Fractional        1\n",
       "Name: count, dtype: int64"
      ]
     },
     "execution_count": 43,
     "metadata": {},
     "output_type": "execute_result"
    }
   ],
   "source": [
    "df['Far Description'].value_counts()"
   ]
  },
  {
   "cell_type": "code",
   "execution_count": 44,
   "metadata": {},
   "outputs": [
    {
     "data": {
      "text/plain": [
       "Engine Type\n",
       "Reciprocating    14513\n",
       "Turbo Prop        1117\n",
       "Turbo Fan          650\n",
       "Turbo Jet          119\n",
       "Unknown             12\n",
       "Turbo Shaft         10\n",
       "Electric             5\n",
       "UNK                  1\n",
       "Name: count, dtype: int64"
      ]
     },
     "execution_count": 44,
     "metadata": {},
     "output_type": "execute_result"
    }
   ],
   "source": [
    "df['Engine Type'].value_counts()"
   ]
  },
  {
   "cell_type": "code",
   "execution_count": 45,
   "metadata": {},
   "outputs": [
    {
     "data": {
      "text/plain": [
       "Number Of Engines\n",
       "1.0    15170\n",
       "2.0     2356\n",
       "4.0       41\n",
       "3.0       20\n",
       "0.0        3\n",
       "8.0        1\n",
       "6.0        1\n",
       "Name: count, dtype: int64"
      ]
     },
     "execution_count": 45,
     "metadata": {},
     "output_type": "execute_result"
    }
   ],
   "source": [
    "df['Number Of Engines'].value_counts()"
   ]
  },
  {
   "cell_type": "markdown",
   "metadata": {},
   "source": [
    "We decided to keep 'Report Status' and 'FAR Description.' While they may not significantly contribute to our ultimate findings, they could serve as helpful references if another datapoint becomes confusing.\n",
    "\n",
    "We also chose to retain 'Engine Type' and 'Number Of Engines' as they may be interesting variables to consider when examining overall safety.\n",
    "\n",
    "# 5. Filling in remaining missing data\n",
    "\n",
    "As we've identified, 'Aircraft Damage,' 'Total Fatal Injuries,' 'Total Serious Injuries,' 'Total Minor Injuries,' and 'Total Uninjured' will be our most important values when it comes to analyzing safety. We'll examine these columns and perform statistical analysis to fill in the NaNs, particularly in these columns, and in others where possible."
   ]
  },
  {
   "cell_type": "code",
   "execution_count": 46,
   "metadata": {},
   "outputs": [
    {
     "data": {
      "text/plain": [
       "Investigation Type           0\n",
       "Accident Number              0\n",
       "Event Date                   0\n",
       "Location                     0\n",
       "Aircraft Damage            431\n",
       "Make                         0\n",
       "Model                        0\n",
       "Number Of Engines          484\n",
       "Engine Type               1649\n",
       "Far Description              2\n",
       "Total Fatal Injuries      2524\n",
       "Total Serious Injuries    2501\n",
       "Total Minor Injuries      2220\n",
       "Total Uninjured            508\n",
       "Report Status             1924\n",
       "dtype: int64"
      ]
     },
     "execution_count": 46,
     "metadata": {},
     "output_type": "execute_result"
    }
   ],
   "source": [
    "df.isna().sum()"
   ]
  },
  {
   "cell_type": "code",
   "execution_count": 47,
   "metadata": {},
   "outputs": [
    {
     "data": {
      "text/plain": [
       "32592    2.0\n",
       "33535    1.0\n",
       "33711    1.0\n",
       "33880    NaN\n",
       "34210    1.0\n",
       "34275    0.0\n",
       "34342    5.0\n",
       "35545    4.0\n",
       "35887    NaN\n",
       "35933    NaN\n",
       "Name: Total Fatal Injuries, dtype: float64"
      ]
     },
     "execution_count": 47,
     "metadata": {},
     "output_type": "execute_result"
    }
   ],
   "source": [
    "df['Total Fatal Injuries'].head(10)"
   ]
  },
  {
   "cell_type": "code",
   "execution_count": 48,
   "metadata": {},
   "outputs": [
    {
     "data": {
      "text/plain": [
       "32592    NaN\n",
       "33535    NaN\n",
       "33711    NaN\n",
       "33880    NaN\n",
       "34210    NaN\n",
       "34275    0.0\n",
       "34342    NaN\n",
       "35545    NaN\n",
       "35887    1.0\n",
       "35933    NaN\n",
       "Name: Total Minor Injuries, dtype: float64"
      ]
     },
     "execution_count": 48,
     "metadata": {},
     "output_type": "execute_result"
    }
   ],
   "source": [
    "df['Total Minor Injuries'].head(10)"
   ]
  },
  {
   "cell_type": "code",
   "execution_count": 49,
   "metadata": {},
   "outputs": [
    {
     "data": {
      "text/html": [
       "<div>\n",
       "<style scoped>\n",
       "    .dataframe tbody tr th:only-of-type {\n",
       "        vertical-align: middle;\n",
       "    }\n",
       "\n",
       "    .dataframe tbody tr th {\n",
       "        vertical-align: top;\n",
       "    }\n",
       "\n",
       "    .dataframe thead th {\n",
       "        text-align: right;\n",
       "    }\n",
       "</style>\n",
       "<table border=\"1\" class=\"dataframe\">\n",
       "  <thead>\n",
       "    <tr style=\"text-align: right;\">\n",
       "      <th></th>\n",
       "      <th>Event Date</th>\n",
       "      <th>Number Of Engines</th>\n",
       "      <th>Total Fatal Injuries</th>\n",
       "      <th>Total Serious Injuries</th>\n",
       "      <th>Total Minor Injuries</th>\n",
       "      <th>Total Uninjured</th>\n",
       "    </tr>\n",
       "  </thead>\n",
       "  <tbody>\n",
       "    <tr>\n",
       "      <th>count</th>\n",
       "      <td>18076</td>\n",
       "      <td>17592.000000</td>\n",
       "      <td>15552.000000</td>\n",
       "      <td>15575.000000</td>\n",
       "      <td>15856.000000</td>\n",
       "      <td>17568.000000</td>\n",
       "    </tr>\n",
       "    <tr>\n",
       "      <th>mean</th>\n",
       "      <td>2013-09-02 08:01:00.544368128</td>\n",
       "      <td>1.143702</td>\n",
       "      <td>0.326067</td>\n",
       "      <td>0.300161</td>\n",
       "      <td>0.201879</td>\n",
       "      <td>5.069843</td>\n",
       "    </tr>\n",
       "    <tr>\n",
       "      <th>min</th>\n",
       "      <td>1993-04-23 00:00:00</td>\n",
       "      <td>0.000000</td>\n",
       "      <td>0.000000</td>\n",
       "      <td>0.000000</td>\n",
       "      <td>0.000000</td>\n",
       "      <td>0.000000</td>\n",
       "    </tr>\n",
       "    <tr>\n",
       "      <th>25%</th>\n",
       "      <td>2009-06-23 18:00:00</td>\n",
       "      <td>1.000000</td>\n",
       "      <td>0.000000</td>\n",
       "      <td>0.000000</td>\n",
       "      <td>0.000000</td>\n",
       "      <td>0.000000</td>\n",
       "    </tr>\n",
       "    <tr>\n",
       "      <th>50%</th>\n",
       "      <td>2013-06-20 00:00:00</td>\n",
       "      <td>1.000000</td>\n",
       "      <td>0.000000</td>\n",
       "      <td>0.000000</td>\n",
       "      <td>0.000000</td>\n",
       "      <td>1.000000</td>\n",
       "    </tr>\n",
       "    <tr>\n",
       "      <th>75%</th>\n",
       "      <td>2018-03-04 00:00:00</td>\n",
       "      <td>1.000000</td>\n",
       "      <td>0.000000</td>\n",
       "      <td>0.000000</td>\n",
       "      <td>0.000000</td>\n",
       "      <td>2.000000</td>\n",
       "    </tr>\n",
       "    <tr>\n",
       "      <th>max</th>\n",
       "      <td>2022-12-26 00:00:00</td>\n",
       "      <td>8.000000</td>\n",
       "      <td>228.000000</td>\n",
       "      <td>137.000000</td>\n",
       "      <td>50.000000</td>\n",
       "      <td>576.000000</td>\n",
       "    </tr>\n",
       "    <tr>\n",
       "      <th>std</th>\n",
       "      <td>NaN</td>\n",
       "      <td>0.378395</td>\n",
       "      <td>2.117862</td>\n",
       "      <td>1.873722</td>\n",
       "      <td>0.768046</td>\n",
       "      <td>26.445175</td>\n",
       "    </tr>\n",
       "  </tbody>\n",
       "</table>\n",
       "</div>"
      ],
      "text/plain": [
       "                          Event Date  Number Of Engines  Total Fatal Injuries  \\\n",
       "count                          18076       17592.000000          15552.000000   \n",
       "mean   2013-09-02 08:01:00.544368128           1.143702              0.326067   \n",
       "min              1993-04-23 00:00:00           0.000000              0.000000   \n",
       "25%              2009-06-23 18:00:00           1.000000              0.000000   \n",
       "50%              2013-06-20 00:00:00           1.000000              0.000000   \n",
       "75%              2018-03-04 00:00:00           1.000000              0.000000   \n",
       "max              2022-12-26 00:00:00           8.000000            228.000000   \n",
       "std                              NaN           0.378395              2.117862   \n",
       "\n",
       "       Total Serious Injuries  Total Minor Injuries  Total Uninjured  \n",
       "count            15575.000000          15856.000000     17568.000000  \n",
       "mean                 0.300161              0.201879         5.069843  \n",
       "min                  0.000000              0.000000         0.000000  \n",
       "25%                  0.000000              0.000000         0.000000  \n",
       "50%                  0.000000              0.000000         1.000000  \n",
       "75%                  0.000000              0.000000         2.000000  \n",
       "max                137.000000             50.000000       576.000000  \n",
       "std                  1.873722              0.768046        26.445175  "
      ]
     },
     "execution_count": 49,
     "metadata": {},
     "output_type": "execute_result"
    }
   ],
   "source": [
    "df.describe()"
   ]
  },
  {
   "cell_type": "code",
   "execution_count": 50,
   "metadata": {},
   "outputs": [
    {
     "data": {
      "text/plain": [
       "Aircraft Damage\n",
       "Substantial    15795\n",
       "Destroyed       1443\n",
       "Minor            367\n",
       "Unknown           40\n",
       "Name: count, dtype: int64"
      ]
     },
     "execution_count": 50,
     "metadata": {},
     "output_type": "execute_result"
    }
   ],
   "source": [
    "df['Aircraft Damage'].value_counts()"
   ]
  },
  {
   "cell_type": "code",
   "execution_count": 51,
   "metadata": {},
   "outputs": [
    {
     "data": {
      "text/plain": [
       "1.0"
      ]
     },
     "execution_count": 51,
     "metadata": {},
     "output_type": "execute_result"
    }
   ],
   "source": [
    "df['Number Of Engines'].median()"
   ]
  },
  {
   "cell_type": "markdown",
   "metadata": {},
   "source": [
    "Based on our analysis, we can reasonably assume that any NaNs in the Injury columns should be interpreted as 0. Operating under this assumption, we have chosen to fill the NaNs in these categories with 0s.\n",
    "\n",
    "The 'Number Of Engines' mean is 1.14, but the data is skewed towards the minimum. Due to this skewness, it's more accurate to fill in the missing data in the column with the median, which is 1.\n",
    "\n",
    "Additionally, we identified more missing data under 'Aircraft Damage.' We will replace the 'Unknowns' with NaNs.\n",
    "\n",
    "There is no accurate method to fill in the missing data in 'Aircraft Damage' or 'Engine Type,' so we will leave those NaNs in place."
   ]
  },
  {
   "cell_type": "code",
   "execution_count": 52,
   "metadata": {},
   "outputs": [],
   "source": [
    "df['Number Of Engines'] = df['Number Of Engines'].fillna(1)\n",
    "df['Total Fatal Injuries'] = df['Total Fatal Injuries'].fillna(0)\n",
    "df['Total Serious Injuries'] = df['Total Serious Injuries'].fillna(0)\n",
    "df['Total Minor Injuries'] = df['Total Minor Injuries'].fillna(0)\n",
    "df['Total Uninjured'] = df['Total Uninjured'].fillna(0)\n",
    "\n",
    "#Fill NaNs - Number of Engines with 1 (median/mode), Fatal Injuries with 0 (intended input), Serious Injuries with 0 (intended input), Minor Injuries with 0 (intended input), and Uninjured with 1 (most common value and results in at least 1 passenger for each accident)"
   ]
  },
  {
   "cell_type": "code",
   "execution_count": 53,
   "metadata": {},
   "outputs": [],
   "source": [
    "df['Aircraft Damage'].replace('Unknown', np.nan, inplace = True)\n",
    "#Replace 'Unknown' values in Aircraft Damage with NaN"
   ]
  },
  {
   "cell_type": "markdown",
   "metadata": {},
   "source": [
    "Finally, we know that White Lotus is looking for private aircrafts. We can narrow down our data by omitting rows that are not indicated to be private based on the 'FAR Description.'"
   ]
  },
  {
   "cell_type": "code",
   "execution_count": 54,
   "metadata": {},
   "outputs": [],
   "source": [
    "df['Far Description'].replace('091', 91, inplace = True)\n",
    "df['Far Description'].replace('Part 91: General Aviation', 91, inplace = True)\n",
    "df['Far Description'].replace('091K', 91, inplace = True)\n",
    "df['Far Description'].replace('Part 91 Subpart K: Fractional', 91, inplace = True)\n",
    "df = df[df['Far Description'] == 91]\n",
    "#Removed commercial flights and narrowed planes down to private flights only"
   ]
  },
  {
   "cell_type": "markdown",
   "metadata": {},
   "source": [
    "# 6 Method of Saftey Measurement\n",
    "\n",
    "### Developing a Safety Measurement and Ranking Method\n",
    "\n",
    "After completing the cleaning, eliminating, filtering, and analysis processes, we still have a substantial amount of data with numerous variables influencing safety.\n",
    "\n",
    "Our aim is to create a safety score based on these variables. Among these, the only variable not already represented by a numerical value is 'Aircraft Damage.' Therefore, we will assign weighted numerical values to replace the existing entries in that column. Then, for the missing data in that column, we'll fill in with the mean.\n",
    "\n",
    "Since guest safety is our ultimate goal, injuries, especially fatal injuries, are something we want to avoid. We'll also weight those values accordingly, then calculate a new column 'Safety Score'"
   ]
  },
  {
   "cell_type": "code",
   "execution_count": 55,
   "metadata": {},
   "outputs": [],
   "source": [
    "df['Aircraft Damage'].replace('Substantial', 1, inplace = True)\n",
    "df['Aircraft Damage'].replace('Destroyed', 2, inplace = True)\n",
    "df['Aircraft Damage'].replace('Minor', 0, inplace = True)\n",
    "#Assign scores to Aircraft Damage\n",
    "    #Destroyed = 2, Substantial = 1, Minor = 0"
   ]
  },
  {
   "cell_type": "code",
   "execution_count": 56,
   "metadata": {},
   "outputs": [],
   "source": [
    "mean_damage = df['Aircraft Damage'].mean()\n",
    "df['Aircraft Damage'].fillna(mean_damage, inplace = True)\n",
    "#Fill NaNs in Aircraft Damage with the mean score"
   ]
  },
  {
   "cell_type": "code",
   "execution_count": 57,
   "metadata": {},
   "outputs": [],
   "source": [
    "df['Total Passengers'] = df['Total Fatal Injuries'] + df['Total Serious Injuries'] + df['Total Minor Injuries'] + df['Total Uninjured']\n",
    "df['Total Passengers'].replace(0, 1, inplace = True)\n",
    "#Create new column, Total Passengers, which combines the total number of people accounted for in a given data point"
   ]
  },
  {
   "cell_type": "code",
   "execution_count": 58,
   "metadata": {},
   "outputs": [],
   "source": [
    "df['Investigation Type Score'] = df['Investigation Type']\n",
    "df['Investigation Type Score'] = df['Investigation Type Score'].replace('Accident', 0.9)\n",
    "df['Investigation Type Score'] = df['Investigation Type Score'].replace('Incident', 1)\n",
    "#Assign score multiplier to Investigation Type by assigning multiplier of 0.9 to Accidents and multiplier of 1 to Incidents"
   ]
  },
  {
   "cell_type": "code",
   "execution_count": 59,
   "metadata": {},
   "outputs": [],
   "source": [
    "df['Fatality Injury Score'] = 1 - (((8 * df['Total Fatal Injuries']) + (4 * df['Total Serious Injuries']) + (2 * df['Total Minor Injuries']) + (0 * df['Total Uninjured'])) / (14 * df['Total Passengers']))\n",
    "#Assign score multiplier to fatalities and injuries by weighting Serious injuries as 2x as detrimental as Minor and Fatal injuries as 2x as detrimental as Serious"
   ]
  },
  {
   "cell_type": "code",
   "execution_count": 60,
   "metadata": {},
   "outputs": [],
   "source": [
    "df['Plane Damage Score'] = 1 - (df['Aircraft Damage'] / 4)\n",
    "#Assign score multiplier to plane damage such that completely destroyed planes multiply safety score by 0.5, substantially damaged planes by 0.75, and planes with minor damage by 1"
   ]
  },
  {
   "cell_type": "code",
   "execution_count": 61,
   "metadata": {},
   "outputs": [],
   "source": [
    "df['Safety Score'] = 1 * df['Investigation Type Score'] * df['Fatality Injury Score'] * df['Plane Damage Score']\n",
    "#Assigned an overall Safety Score to each data point"
   ]
  },
  {
   "cell_type": "code",
   "execution_count": 64,
   "metadata": {},
   "outputs": [
    {
     "data": {
      "text/plain": [
       "Index(['Investigation Type', 'Accident Number', 'Event Date', 'Location',\n",
       "       'Aircraft Damage', 'Make', 'Model', 'Number Of Engines', 'Engine Type',\n",
       "       'Far Description', 'Total Fatal Injuries', 'Total Serious Injuries',\n",
       "       'Total Minor Injuries', 'Total Uninjured', 'Report Status',\n",
       "       'Total Passengers', 'Investigation Type Score', 'Fatality Injury Score',\n",
       "       'Plane Damage Score', 'Safety Score'],\n",
       "      dtype='object')"
      ]
     },
     "execution_count": 64,
     "metadata": {},
     "output_type": "execute_result"
    }
   ],
   "source": [
    "df.columns\n",
    "#Checking for new column"
   ]
  },
  {
   "cell_type": "code",
<<<<<<< HEAD
   "execution_count": 65,
=======
   "execution_count": 1,
   "id": "4aba2fa2-e3f4-4410-a49c-4ca2846c7d70",
>>>>>>> upstream/main
   "metadata": {},
   "outputs": [
    {
     "ename": "NameError",
     "evalue": "name 'df' is not defined",
     "output_type": "error",
     "traceback": [
      "\u001b[0;31m---------------------------------------------------------------------------\u001b[0m",
      "\u001b[0;31mNameError\u001b[0m                                 Traceback (most recent call last)",
      "Cell \u001b[0;32mIn[1], line 1\u001b[0m\n\u001b[0;32m----> 1\u001b[0m df\u001b[38;5;241m.\u001b[39mdescribe()\n",
      "\u001b[0;31mNameError\u001b[0m: name 'df' is not defined"
     ]
    }
   ],
   "source": [
    "df.describe()\n",
    "#Previewing dataset with new column"
   ]
  },
  {
   "cell_type": "code",
   "execution_count": 66,
   "metadata": {},
   "outputs": [],
   "source": [
    "df['Make'].replace('IAI', 'ISRAELAIRCRAFTINDUSTRIES', inplace = True)\n",
    "df['Make'].replace('AEROTEK', 'AEROTEKAVIAT', inplace = True)\n",
    "df['Make'].replace('AEROTEKINC', 'AEROTEKAVIAT', inplace = True)\n",
    "df['Make'].replace('AVIAT', 'AEROTEKAVIAT', inplace = True)\n",
    "df['Make'].replace('AVIATAIRCRAFTINC', 'AEROTEKAVIAT', inplace = True)\n",
    "df['Make'].replace('AVIATINC', 'AEROTEKAVIAT', inplace = True)\n",
    "df['Make'].replace('AVIATAIRCRAFT', 'AEROTEKAVIAT', inplace = True)\n",
    "\n",
    "#Combining duplicate Makes for final piece of cleaning"
   ]
  },
  {
   "cell_type": "markdown",
   "metadata": {},
   "source": [
    "# 7 Final Data Analysis and Visualizations "
   ]
  },
  {
   "cell_type": "code",
   "execution_count": null,
   "metadata": {},
   "outputs": [],
   "source": []
  }
 ],
 "metadata": {
  "kernelspec": {
   "display_name": "Python 3",
   "language": "python",
   "name": "python3"
  },
  "language_info": {
   "codemirror_mode": {
    "name": "ipython",
    "version": 3
   },
   "file_extension": ".py",
   "mimetype": "text/x-python",
   "name": "python",
   "nbconvert_exporter": "python",
   "pygments_lexer": "ipython3",
   "version": "3.8.5"
  }
 },
 "nbformat": 4,
 "nbformat_minor": 5
}
