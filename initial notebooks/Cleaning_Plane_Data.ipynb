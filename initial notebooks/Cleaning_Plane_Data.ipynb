{
 "cells": [
  {
   "cell_type": "markdown",
   "metadata": {},
   "source": [
    "## Which Plane is for you?"
   ]
  },
  {
   "cell_type": "code",
   "execution_count": 1,
   "metadata": {},
   "outputs": [],
   "source": [
    "#Imported all basic DS libraries\n",
    "import numpy as np\n",
    "import pandas as pd\n",
    "import matplotlib.pyplot as plt\n",
    "import seaborn as sns\n",
    "import scipy as stats\n"
   ]
  },
  {
   "cell_type": "code",
   "execution_count": 2,
   "metadata": {},
   "outputs": [],
   "source": [
    "#Imported original Data set into Jupyter Notebook\n",
    "accident_df = pd.read_csv('C:\\\\Users\\\\Baumg\\\\Documents\\\\Flatiron\\\\Project_1\\\\DSC-Project1\\\\data\\\\AviationData.csv', encoding = 'mac_roman', low_memory = False)"
   ]
  },
  {
   "cell_type": "code",
   "execution_count": 3,
   "metadata": {},
   "outputs": [
    {
     "name": "stdout",
     "output_type": "stream",
     "text": [
      "<class 'pandas.core.frame.DataFrame'>\n",
      "RangeIndex: 88889 entries, 0 to 88888\n",
      "Data columns (total 31 columns):\n",
      " #   Column                  Non-Null Count  Dtype  \n",
      "---  ------                  --------------  -----  \n",
      " 0   Event.Id                88889 non-null  object \n",
      " 1   Investigation.Type      88889 non-null  object \n",
      " 2   Accident.Number         88889 non-null  object \n",
      " 3   Event.Date              88889 non-null  object \n",
      " 4   Location                88837 non-null  object \n",
      " 5   Country                 88663 non-null  object \n",
      " 6   Latitude                34382 non-null  object \n",
      " 7   Longitude               34373 non-null  object \n",
      " 8   Airport.Code            50249 non-null  object \n",
      " 9   Airport.Name            52790 non-null  object \n",
      " 10  Injury.Severity         87889 non-null  object \n",
      " 11  Aircraft.damage         85695 non-null  object \n",
      " 12  Aircraft.Category       32287 non-null  object \n",
      " 13  Registration.Number     87572 non-null  object \n",
      " 14  Make                    88826 non-null  object \n",
      " 15  Model                   88797 non-null  object \n",
      " 16  Amateur.Built           88787 non-null  object \n",
      " 17  Number.of.Engines       82805 non-null  float64\n",
      " 18  Engine.Type             81812 non-null  object \n",
      " 19  FAR.Description         32023 non-null  object \n",
      " 20  Schedule                12582 non-null  object \n",
      " 21  Purpose.of.flight       82697 non-null  object \n",
      " 22  Air.carrier             16648 non-null  object \n",
      " 23  Total.Fatal.Injuries    77488 non-null  float64\n",
      " 24  Total.Serious.Injuries  76379 non-null  float64\n",
      " 25  Total.Minor.Injuries    76956 non-null  float64\n",
      " 26  Total.Uninjured         82977 non-null  float64\n",
      " 27  Weather.Condition       84397 non-null  object \n",
      " 28  Broad.phase.of.flight   61724 non-null  object \n",
      " 29  Report.Status           82508 non-null  object \n",
      " 30  Publication.Date        75118 non-null  object \n",
      "dtypes: float64(5), object(26)\n",
      "memory usage: 21.0+ MB\n",
      "None\n"
     ]
    }
   ],
   "source": [
    "#Checked original Dataframe\n",
    "print(accident_df.info())"
   ]
  },
  {
   "cell_type": "code",
   "execution_count": 4,
   "metadata": {},
   "outputs": [],
   "source": [
    "#Dropped several columns we deemed as not needed\n",
    "accident_df = accident_df.drop(['Event.Id', 'Latitude', 'Longitude', 'Airport.Code', 'Injury.Severity', 'Schedule', 'Purpose.of.flight', 'Air.carrier', 'Publication.Date'], axis=1)"
   ]
  },
  {
   "cell_type": "code",
   "execution_count": 5,
   "metadata": {},
   "outputs": [
    {
     "name": "stdout",
     "output_type": "stream",
     "text": [
      "<class 'pandas.core.frame.DataFrame'>\n",
      "RangeIndex: 88889 entries, 0 to 88888\n",
      "Data columns (total 22 columns):\n",
      " #   Column                  Non-Null Count  Dtype  \n",
      "---  ------                  --------------  -----  \n",
      " 0   Investigation.Type      88889 non-null  object \n",
      " 1   Accident.Number         88889 non-null  object \n",
      " 2   Event.Date              88889 non-null  object \n",
      " 3   Location                88837 non-null  object \n",
      " 4   Country                 88663 non-null  object \n",
      " 5   Airport.Name            52790 non-null  object \n",
      " 6   Aircraft.damage         85695 non-null  object \n",
      " 7   Aircraft.Category       32287 non-null  object \n",
      " 8   Registration.Number     87572 non-null  object \n",
      " 9   Make                    88826 non-null  object \n",
      " 10  Model                   88797 non-null  object \n",
      " 11  Amateur.Built           88787 non-null  object \n",
      " 12  Number.of.Engines       82805 non-null  float64\n",
      " 13  Engine.Type             81812 non-null  object \n",
      " 14  FAR.Description         32023 non-null  object \n",
      " 15  Total.Fatal.Injuries    77488 non-null  float64\n",
      " 16  Total.Serious.Injuries  76379 non-null  float64\n",
      " 17  Total.Minor.Injuries    76956 non-null  float64\n",
      " 18  Total.Uninjured         82977 non-null  float64\n",
      " 19  Weather.Condition       84397 non-null  object \n",
      " 20  Broad.phase.of.flight   61724 non-null  object \n",
      " 21  Report.Status           82508 non-null  object \n",
      "dtypes: float64(5), object(17)\n",
      "memory usage: 14.9+ MB\n",
      "None\n"
     ]
    }
   ],
   "source": [
    "print(accident_df.info())"
   ]
  },
  {
   "cell_type": "code",
   "execution_count": 6,
   "metadata": {},
   "outputs": [
    {
     "data": {
      "text/plain": [
       "Investigation.Type            0\n",
       "Accident.Number               0\n",
       "Event.Date                    0\n",
       "Location                     52\n",
       "Country                     226\n",
       "Airport.Name              36099\n",
       "Aircraft.damage            3194\n",
       "Aircraft.Category         56602\n",
       "Registration.Number        1317\n",
       "Make                         63\n",
       "Model                        92\n",
       "Amateur.Built               102\n",
       "Number.of.Engines          6084\n",
       "Engine.Type                7077\n",
       "FAR.Description           56866\n",
       "Total.Fatal.Injuries      11401\n",
       "Total.Serious.Injuries    12510\n",
       "Total.Minor.Injuries      11933\n",
       "Total.Uninjured            5912\n",
       "Weather.Condition          4492\n",
       "Broad.phase.of.flight     27165\n",
       "Report.Status              6381\n",
       "dtype: int64"
      ]
     },
     "execution_count": 6,
     "metadata": {},
     "output_type": "execute_result"
    }
   ],
   "source": [
    "accident_df.isna().sum()"
   ]
  },
  {
   "cell_type": "code",
   "execution_count": 7,
   "metadata": {},
   "outputs": [],
   "source": [
    "#Converted Event.Date to datetime using a format for the year-month-day\n",
    "accident_df['Event.Date'] = pd.to_datetime(accident_df['Event.Date'], format='%Y-%m-%d')"
   ]
  },
  {
   "cell_type": "code",
   "execution_count": 8,
   "metadata": {},
   "outputs": [],
   "source": [
    "#Converted variables inside the following columns to full uppercase lettering\n",
    "accident_df['Country'] = accident_df['Country'].str.upper()\n",
    "accident_df['Report.Status'] = accident_df['Report.Status'].str.lower()\n",
    "accident_df['Location'] = accident_df['Location'].str.upper()\n",
    "accident_df['Make'] = accident_df['Make'].str.upper()\n",
    "accident_df['Model'] = accident_df['Model'].str.upper()\n",
    "accident_df['Airport.Name'] = accident_df['Airport.Name'].str.upper()"
   ]
  },
  {
   "cell_type": "code",
   "execution_count": 9,
   "metadata": {},
   "outputs": [],
   "source": [
    "#Replaced all non-alphabeticals and non-numericals including spaces.\n",
    "# ^ tells the code to look for anything that is not the specified set.\n",
    "#In this case a-z, A-Z, and 0-9\n",
    "accident_df['Make'] = accident_df['Make'].str.replace('[^a-zA-Z0-9]', '')\n",
    "accident_df['Model'] = accident_df['Model'].str.replace('[^a-zA-Z0-9]', '')"
   ]
  },
  {
   "cell_type": "code",
   "execution_count": 10,
   "metadata": {},
   "outputs": [],
   "source": [
    "#Removed all years before 1993 using the Event Date column using the \n",
    "#DateTime function in pandas with the .year to extract the years greater\n",
    "#than or equal to 1993\n",
    "accident_df = accident_df[accident_df['Event.Date'].dt.year >= 1993]"
   ]
  },
  {
   "cell_type": "code",
   "execution_count": 11,
   "metadata": {},
   "outputs": [
    {
     "name": "stdout",
     "output_type": "stream",
     "text": [
      "<class 'pandas.core.frame.DataFrame'>\n",
      "Int64Index: 56863 entries, 32026 to 88888\n",
      "Data columns (total 22 columns):\n",
      " #   Column                  Non-Null Count  Dtype         \n",
      "---  ------                  --------------  -----         \n",
      " 0   Investigation.Type      56863 non-null  object        \n",
      " 1   Accident.Number         56863 non-null  object        \n",
      " 2   Event.Date              56863 non-null  datetime64[ns]\n",
      " 3   Location                56822 non-null  object        \n",
      " 4   Country                 56790 non-null  object        \n",
      " 5   Airport.Name            34169 non-null  object        \n",
      " 6   Aircraft.damage         54365 non-null  object        \n",
      " 7   Aircraft.Category       28615 non-null  object        \n",
      " 8   Registration.Number     55568 non-null  object        \n",
      " 9   Make                    56807 non-null  object        \n",
      " 10  Model                   56791 non-null  object        \n",
      " 11  Amateur.Built           56762 non-null  object        \n",
      " 12  Number.of.Engines       51114 non-null  float64       \n",
      " 13  Engine.Type             49790 non-null  object        \n",
      " 14  FAR.Description         28351 non-null  object        \n",
      " 15  Total.Fatal.Injuries    45618 non-null  float64       \n",
      " 16  Total.Serious.Injuries  44554 non-null  float64       \n",
      " 17  Total.Minor.Injuries    45137 non-null  float64       \n",
      " 18  Total.Uninjured         51089 non-null  float64       \n",
      " 19  Weather.Condition       52374 non-null  object        \n",
      " 20  Broad.phase.of.flight   30012 non-null  object        \n",
      " 21  Report.Status           50482 non-null  object        \n",
      "dtypes: datetime64[ns](1), float64(5), object(16)\n",
      "memory usage: 10.0+ MB\n",
      "None\n"
     ]
    }
   ],
   "source": [
    "print(accident_df.info())"
   ]
  },
  {
   "cell_type": "code",
   "execution_count": 12,
   "metadata": {},
   "outputs": [],
   "source": [
    "#Removed all Amateur Built aircrafts from our data set.\n",
    "#~ means only the values the the = yes\n",
    "amateur_built = accident_df['Amateur.Built'] == 'Yes'\n",
    "accident_df = accident_df[~amateur_built]"
   ]
  },
  {
   "cell_type": "code",
   "execution_count": 13,
   "metadata": {},
   "outputs": [],
   "source": [
    "#Kept only the Airplanes under Aircraft Category\n",
    "accident_df = accident_df[accident_df['Aircraft.Category'] == 'Airplane']"
   ]
  },
  {
   "cell_type": "code",
   "execution_count": 14,
   "metadata": {},
   "outputs": [],
   "source": [
    "#Dropped any NaN in Make and Model\n",
    "accident_df.dropna(subset = ['Make', 'Model'], inplace = True)"
   ]
  },
  {
   "cell_type": "code",
   "execution_count": 15,
   "metadata": {},
   "outputs": [],
   "source": [
    "#Dropped the Amateur Built colum\n",
    "accident_df = accident_df.drop(['Amateur.Built'], axis=1)"
   ]
  },
  {
   "cell_type": "code",
   "execution_count": 16,
   "metadata": {},
   "outputs": [],
   "source": [
    "#Cleaned up the cloumn names by replace the . with spaces\n",
    "currentheaders = list(accident_df.columns.values)\n",
    "\n",
    "accident_df.columns = [c.replace('.', ' ').title() for c in currentheaders]\n"
   ]
  },
  {
   "cell_type": "code",
   "execution_count": 17,
   "metadata": {},
   "outputs": [
    {
     "name": "stdout",
     "output_type": "stream",
     "text": [
      "<class 'pandas.core.frame.DataFrame'>\n",
      "Int64Index: 21348 entries, 32592 to 88886\n",
      "Data columns (total 21 columns):\n",
      " #   Column                  Non-Null Count  Dtype         \n",
      "---  ------                  --------------  -----         \n",
      " 0   Investigation Type      21348 non-null  object        \n",
      " 1   Accident Number         21348 non-null  object        \n",
      " 2   Event Date              21348 non-null  datetime64[ns]\n",
      " 3   Location                21341 non-null  object        \n",
      " 4   Country                 21347 non-null  object        \n",
      " 5   Airport Name            14043 non-null  object        \n",
      " 6   Aircraft Damage         20129 non-null  object        \n",
      " 7   Aircraft Category       21348 non-null  object        \n",
      " 8   Registration Number     21139 non-null  object        \n",
      " 9   Make                    21348 non-null  object        \n",
      " 10  Model                   21348 non-null  object        \n",
      " 11  Number Of Engines       18792 non-null  float64       \n",
      " 12  Engine Type             17395 non-null  object        \n",
      " 13  Far Description         20868 non-null  object        \n",
      " 14  Total Fatal Injuries    18639 non-null  float64       \n",
      " 15  Total Serious Injuries  18589 non-null  float64       \n",
      " 16  Total Minor Injuries    18870 non-null  float64       \n",
      " 17  Total Uninjured         20677 non-null  float64       \n",
      " 18  Weather Condition       18367 non-null  object        \n",
      " 19  Broad Phase Of Flight   2736 non-null   object        \n",
      " 20  Report Status           16695 non-null  object        \n",
      "dtypes: datetime64[ns](1), float64(5), object(15)\n",
      "memory usage: 3.6+ MB\n",
      "None\n"
     ]
    }
   ],
   "source": [
    "print(accident_df.info())"
   ]
  },
  {
   "cell_type": "code",
   "execution_count": 18,
   "metadata": {},
   "outputs": [
    {
     "data": {
      "text/plain": [
       "{'UNITED STATES'}"
      ]
     },
     "execution_count": 18,
     "metadata": {},
     "output_type": "execute_result"
    }
   ],
   "source": [
    "#Converted varies version of United States to UNTIED STATES\n",
    "usa = []\n",
    "for country in accident_df['Country'].values:\n",
    "    if country == 'UNITED STATES':\n",
    "        usa.append(country)\n",
    "    elif country == 'USA':\n",
    "        usa.append(country)\n",
    "    elif country == 'US':\n",
    "        usa.append(country)\n",
    "\n",
    "values = set(usa)\n",
    "values"
   ]
  },
  {
   "cell_type": "code",
   "execution_count": 19,
   "metadata": {},
   "outputs": [],
   "source": [
    "#Kept only the UNITED STATES within the Country column\n",
    "accident_df = accident_df[accident_df['Country'] == 'UNITED STATES']"
   ]
  },
  {
   "cell_type": "code",
   "execution_count": 20,
   "metadata": {},
   "outputs": [],
   "source": [
    "#Dropped more columns we felt were not important to our data\n",
    "accident_df = accident_df.drop(['Airport Name', 'Registration Number', 'Weather Condition', 'Country', 'Aircraft Category', 'Broad Phase Of Flight'], axis=1)"
   ]
  },
  {
   "cell_type": "code",
   "execution_count": 21,
   "metadata": {},
   "outputs": [],
   "source": [
    "#Fill NaNs - Number of Engines with 1 (median/mode), \n",
    "#Fatal Injuries with 0 (intended input), \n",
    "#Serious Injuries with 0 (intended input), \n",
    "#Minor Injuries with 0 (intended input), and Uninjured with 1 \n",
    "#(most common value and results in at least 1 passenger for each accident)\n",
    "\n",
    "accident_df['Number Of Engines'] = accident_df['Number Of Engines'].fillna(1)\n",
    "accident_df['Total Fatal Injuries'] = accident_df['Total Fatal Injuries'].fillna(0)\n",
    "accident_df['Total Serious Injuries'] = accident_df['Total Serious Injuries'].fillna(0)\n",
    "accident_df['Total Minor Injuries'] = accident_df['Total Minor Injuries'].fillna(0)\n",
    "accident_df['Total Uninjured'] = accident_df['Total Uninjured'].fillna(0)"
   ]
  },
  {
   "cell_type": "code",
   "execution_count": 22,
   "metadata": {},
   "outputs": [],
   "source": [
    "#Replace 'Unknown' values in Aircraft Damage with NaN\n",
    "accident_df['Aircraft Damage'].replace('Unknown', np.nan, inplace = True)"
   ]
  },
  {
   "cell_type": "code",
   "execution_count": 23,
   "metadata": {},
   "outputs": [],
   "source": [
    "#Assign scores to Aircraft Damage\n",
    "    #Destroyed = 2, Substantial = 1, Minor = 0\n",
    "accident_df['Aircraft Damage'].replace('Substantial', 1, inplace = True)\n",
    "accident_df['Aircraft Damage'].replace('Destroyed', 2, inplace = True)\n",
    "accident_df['Aircraft Damage'].replace('Minor', 0, inplace = True)"
   ]
  },
  {
   "cell_type": "code",
   "execution_count": 24,
   "metadata": {},
   "outputs": [],
   "source": [
    "#Fill NaNs in Aircraft Damage with the mean score\n",
    "mean_damage = accident_df['Aircraft Damage'].mean()\n",
    "accident_df['Aircraft Damage'].fillna(mean_damage, inplace = True)"
   ]
  },
  {
   "cell_type": "code",
   "execution_count": 25,
   "metadata": {},
   "outputs": [],
   "source": [
    "#Replaced all the varients of Part 91 to 91\n",
    "accident_df['Far Description'].replace('091', 91, inplace = True)\n",
    "\n",
    "accident_df['Far Description'].replace('Part 91: General Aviation', 91, inplace = True)\n",
    "\n",
    "accident_df['Far Description'].replace('091K', 91, inplace = True)\n",
    "\n",
    "accident_df['Far Description'].replace('Part 91 Subpart K: Fractional', 91, inplace = True)\n",
    "\n",
    "accident_df = accident_df[accident_df['Far Description'] == 91]"
   ]
  },
  {
   "cell_type": "code",
   "execution_count": 26,
   "metadata": {},
   "outputs": [],
   "source": [
    "#Create new column, Total Passengers, which combines the total number of people accounted for in a given data point\n",
    "accident_df['Total Passengers'] = accident_df['Total Fatal Injuries'] + accident_df['Total Serious Injuries'] + accident_df['Total Minor Injuries'] + accident_df['Total Uninjured']\n",
    "accident_df['Total Passengers'].replace(0, 1, inplace = True)\n"
   ]
  },
  {
   "cell_type": "code",
   "execution_count": 27,
   "metadata": {},
   "outputs": [],
   "source": [
    "#Assign score multiplier to Investigation Type by assigning multiplier of 0.9 to Accidents and multiplier of 1 to Incidents\n",
    "accident_df['Investigation Type Score'] = accident_df['Investigation Type']\n",
    "accident_df['Investigation Type Score'] = accident_df['Investigation Type Score'].replace('Accident', 0.9)\n",
    "accident_df['Investigation Type Score'] = accident_df['Investigation Type Score'].replace('Incident', 1)\n"
   ]
  },
  {
   "cell_type": "code",
   "execution_count": 28,
   "metadata": {},
   "outputs": [],
   "source": [
    "#Assign score multiplier to fatalities and injuries by weighting Serious injuries as 2x as detrimental as Minor and Fatal injuries as 2x as detrimental as Serious\n",
    "accident_df['Fatality Injury Score'] = 1 - (((8 * accident_df['Total Fatal Injuries']) + (4 * accident_df['Total Serious Injuries']) + (2 * accident_df['Total Minor Injuries']) + (0 * accident_df['Total Uninjured'])) / (14 * accident_df['Total Passengers']))\n"
   ]
  },
  {
   "cell_type": "code",
   "execution_count": 29,
   "metadata": {},
   "outputs": [],
   "source": [
    "#Assign score multiplier to plane damage such that completely destroyed planes multiply safety score by 0.5, substantially damaged planes by 0.75, and planes with minor damage by 1\n",
    "accident_df['Plane Damage Score'] = 1 - (accident_df['Aircraft Damage'] / 4)"
   ]
  },
  {
   "cell_type": "code",
   "execution_count": 30,
   "metadata": {},
   "outputs": [],
   "source": [
    "#Assigned an overall Safety Score to each data point\n",
    "accident_df['Safety Score'] = 1 * accident_df['Investigation Type Score'] * accident_df['Fatality Injury Score'] * accident_df['Plane Damage Score']\n"
   ]
  },
  {
   "cell_type": "code",
   "execution_count": 31,
   "metadata": {},
   "outputs": [],
   "source": [
    "#Combined as many of the same Makes as we saw\n",
    "accident_df['Make'].replace('IAI', 'ISRAELAIRCRAFTINDUSTRIES', inplace = True)\n",
    "accident_df['Make'].replace('AEROTEK', 'AEROTEKAVIAT', inplace = True)\n",
    "accident_df['Make'].replace('AEROTEKINC', 'AEROTEKAVIAT', inplace = True)\n",
    "accident_df['Make'].replace('AVIAT', 'AEROTEKAVIAT', inplace = True)\n",
    "accident_df['Make'].replace('AVIATAIRCRAFTINC', 'AEROTEKAVIAT', inplace = True)\n",
    "accident_df['Make'].replace('AVIATINC', 'AEROTEKAVIAT', inplace = True)\n",
    "accident_df['Make'].replace('AVIATAIRCRAFT', 'AEROTEKAVIAT', inplace = True)"
   ]
  },
  {
   "cell_type": "code",
   "execution_count": 34,
   "metadata": {},
   "outputs": [
    {
     "name": "stdout",
     "output_type": "stream",
     "text": [
      "<class 'pandas.core.frame.DataFrame'>\n",
      "Int64Index: 15781 entries, 32592 to 88886\n",
      "Data columns (total 20 columns):\n",
      " #   Column                    Non-Null Count  Dtype         \n",
      "---  ------                    --------------  -----         \n",
      " 0   Investigation Type        15781 non-null  object        \n",
      " 1   Accident Number           15781 non-null  object        \n",
      " 2   Event Date                15781 non-null  datetime64[ns]\n",
      " 3   Location                  15781 non-null  object        \n",
      " 4   Aircraft Damage           15781 non-null  float64       \n",
      " 5   Make                      15781 non-null  object        \n",
      " 6   Model                     15781 non-null  object        \n",
      " 7   Number Of Engines         15781 non-null  float64       \n",
      " 8   Engine Type               14418 non-null  object        \n",
      " 9   Far Description           15781 non-null  object        \n",
      " 10  Total Fatal Injuries      15781 non-null  float64       \n",
      " 11  Total Serious Injuries    15781 non-null  float64       \n",
      " 12  Total Minor Injuries      15781 non-null  float64       \n",
      " 13  Total Uninjured           15781 non-null  float64       \n",
      " 14  Report Status             14134 non-null  object        \n",
      " 15  Total Passengers          15781 non-null  float64       \n",
      " 16  Investigation Type Score  15781 non-null  float64       \n",
      " 17  Fatality Injury Score     15781 non-null  float64       \n",
      " 18  Plane Damage Score        15781 non-null  float64       \n",
      " 19  Safety Score              15781 non-null  float64       \n",
      "dtypes: datetime64[ns](1), float64(11), object(8)\n",
      "memory usage: 2.5+ MB\n",
      "None\n"
     ]
    }
   ],
   "source": [
    "print(accident_df.info())"
   ]
  },
  {
   "cell_type": "code",
   "execution_count": 37,
   "metadata": {},
   "outputs": [
    {
     "data": {
      "text/plain": [
       "Index(['Investigation Type', 'Accident Number', 'Event Date', 'Location',\n",
       "       'Aircraft Damage', 'Make', 'Model', 'Number Of Engines', 'Engine Type',\n",
       "       'Far Description', 'Total Fatal Injuries', 'Total Serious Injuries',\n",
       "       'Total Minor Injuries', 'Total Uninjured', 'Report Status',\n",
       "       'Total Passengers', 'Investigation Type Score', 'Fatality Injury Score',\n",
       "       'Plane Damage Score', 'Safety Score'],\n",
       "      dtype='object')"
      ]
     },
     "execution_count": 37,
     "metadata": {},
     "output_type": "execute_result"
    }
   ],
   "source": [
    "accident_df.columns"
   ]
  },
  {
   "cell_type": "code",
   "execution_count": 38,
   "metadata": {},
   "outputs": [],
   "source": [
    "accident_df.to_csv('cleaned_accident_data.csv', index=False)\n"
   ]
  },
  {
   "cell_type": "code",
   "execution_count": null,
   "metadata": {},
   "outputs": [],
   "source": []
  }
 ],
 "metadata": {
  "kernelspec": {
   "display_name": "Python (learn-env)",
   "language": "python",
   "name": "learn-env"
  },
  "language_info": {
   "codemirror_mode": {
    "name": "ipython",
    "version": 3
   },
   "file_extension": ".py",
   "mimetype": "text/x-python",
   "name": "python",
   "nbconvert_exporter": "python",
   "pygments_lexer": "ipython3",
   "version": "3.8.5"
  }
 },
 "nbformat": 4,
 "nbformat_minor": 4
}
